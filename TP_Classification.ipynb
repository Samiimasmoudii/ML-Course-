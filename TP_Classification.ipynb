{
  "nbformat": 4,
  "nbformat_minor": 0,
  "metadata": {
    "colab": {
      "provenance": [],
      "authorship_tag": "ABX9TyNbZwXWXCQJosKXZ+Rfb1Th",
      "include_colab_link": true
    },
    "kernelspec": {
      "name": "python3",
      "display_name": "Python 3"
    },
    "language_info": {
      "name": "python"
    }
  },
  "cells": [
    {
      "cell_type": "markdown",
      "metadata": {
        "id": "view-in-github",
        "colab_type": "text"
      },
      "source": [
        "<a href=\"https://colab.research.google.com/github/Samiimasmoudii/ML-Course-/blob/main/TP_Classification.ipynb\" target=\"_parent\"><img src=\"https://colab.research.google.com/assets/colab-badge.svg\" alt=\"Open In Colab\"/></a>"
      ]
    },
    {
      "cell_type": "markdown",
      "source": [
        "This project aimed to build a predictive model for customer churn using various classification methods.\n",
        "\n",
        "The dataset was first preprocessed by handling categorical features using OneHotEncoder and normalizing numerical features using StandardScaler.\n",
        "\n",
        "The data was then split into training and testing sets. Four classification models were applied and evaluated: K-Nearest Neighbors (KNN), Random Forest, Support Vector Machine (SVM), and Logistic Regression. Key performance metrics including accuracy, precision, recall, and F1-score were calculated for each model.\n",
        "\n",
        " Additionally, cross-validation was employed to determine the optimal number of neighbors for the KNN model, and feature importance was extracted using the Random Forest model. The results of these models were visualized using a bar plot for performance comparison and a confusion matrix for a detailed breakdown of predictions.\n",
        "\n",
        " Finally, a ROC curve was generated to further compare the performance of the classification methods in terms of their true positive and false positive rates.\n",
        "\n",
        " These analyses provided insights into customer churn behavior and identified the most effective model for predicting churn in this context.\n",
        "\n"
"Sami Masmoudi October 8th 2024"
      ],
      "metadata": {
        "id": "gu1fvw-stWkr"
      }
    },
    {
      "cell_type": "markdown",
      "source": [
        "# Data preprocessing and exploration"
      ],
      "metadata": {
        "id": "zZfPfM3XomLp"
      }
    },
    {
      "cell_type": "markdown",
      "source": [
        "1 .Import Necessary Libraries"
      ],
      "metadata": {
        "id": "jwuTQpQZfPfS"
      }
    },
    {
      "cell_type": "code",
      "execution_count": 4,
      "metadata": {
        "id": "sYwCHOnpJv67"
      },
      "outputs": [],
      "source": [
        "import pandas as pd\n",
        "import numpy as np\n",
        "import seaborn as sns\n",
        "import matplotlib.pyplot as plt\n",
        "import warnings"
      ]
    },
    {
      "cell_type": "markdown",
      "source": [
        "2 .Import File"
      ],
      "metadata": {
        "id": "WCavOTG6fMQe"
      }
    },
    {
      "cell_type": "code",
      "source": [
        "data = pd.read_csv('/content/sample_data/Churn_Modelling.csv')"
      ],
      "metadata": {
        "id": "_Uq9sLIFfE28"
      },
      "execution_count": 7,
      "outputs": []
    },
    {
      "cell_type": "markdown",
      "source": [
        "4. Dataset Size"
      ],
      "metadata": {
        "id": "gIR_EsXifPCn"
      }
    },
    {
      "cell_type": "code",
      "source": [
        "data.shape\n"
      ],
      "metadata": {
        "colab": {
          "base_uri": "https://localhost:8080/"
        },
        "id": "xYHDOrohiL-c",
        "outputId": "c7413e99-a689-4c0b-c7b5-fd02a4551d83"
      },
      "execution_count": 8,
      "outputs": [
        {
          "output_type": "execute_result",
          "data": {
            "text/plain": [
              "(10000, 14)"
            ]
          },
          "metadata": {},
          "execution_count": 8
        }
      ]
    },
    {
      "cell_type": "markdown",
      "source": [
        "Display All Colomn Names of the Data frame as a list"
      ],
      "metadata": {
        "id": "H8CzLrqCiUPy"
      }
    },
    {
      "cell_type": "code",
      "source": [
        "list(data.columns)"
      ],
      "metadata": {
        "id": "YEDgT0JqfLqI",
        "colab": {
          "base_uri": "https://localhost:8080/"
        },
        "outputId": "937df01f-7dcc-49a9-bf10-d9e13b9481ae"
      },
      "execution_count": 9,
      "outputs": [
        {
          "output_type": "execute_result",
          "data": {
            "text/plain": [
              "['RowNumber',\n",
              " 'CustomerId',\n",
              " 'Surname',\n",
              " 'CreditScore',\n",
              " 'Geography',\n",
              " 'Gender',\n",
              " 'Age',\n",
              " 'Tenure',\n",
              " 'Balance',\n",
              " 'NumOfProducts',\n",
              " 'HasCrCard',\n",
              " 'IsActiveMember',\n",
              " 'EstimatedSalary',\n",
              " 'Exited']"
            ]
          },
          "metadata": {},
          "execution_count": 9
        }
      ]
    },
    {
      "cell_type": "markdown",
      "source": [
        "6. Deleting 3 lines of data"
      ],
      "metadata": {
        "id": "os_34cJOiuwr"
      }
    },
    {
      "cell_type": "code",
      "source": [
        "data = data.drop(columns=data.columns[:3])\n",
        "data.head()"
      ],
      "metadata": {
        "colab": {
          "base_uri": "https://localhost:8080/",
          "height": 226
        },
        "id": "j6-7S-V3i2Y6",
        "outputId": "553492ab-4ea4-4265-9190-efc96291b780"
      },
      "execution_count": 10,
      "outputs": [
        {
          "output_type": "execute_result",
          "data": {
            "text/plain": [
              "   CreditScore Geography  Gender  Age  Tenure    Balance  NumOfProducts  \\\n",
              "0          619    France  Female   42       2       0.00              1   \n",
              "1          608     Spain  Female   41       1   83807.86              1   \n",
              "2          502    France  Female   42       8  159660.80              3   \n",
              "3          699    France  Female   39       1       0.00              2   \n",
              "4          850     Spain  Female   43       2  125510.82              1   \n",
              "\n",
              "   HasCrCard  IsActiveMember  EstimatedSalary  Exited  \n",
              "0          1               1        101348.88       1  \n",
              "1          0               1        112542.58       0  \n",
              "2          1               0        113931.57       1  \n",
              "3          0               0         93826.63       0  \n",
              "4          1               1         79084.10       0  "
            ],
            "text/html": [
              "\n",
              "  <div id=\"df-93f3fee0-985b-4322-9457-599992671971\" class=\"colab-df-container\">\n",
              "    <div>\n",
              "<style scoped>\n",
              "    .dataframe tbody tr th:only-of-type {\n",
              "        vertical-align: middle;\n",
              "    }\n",
              "\n",
              "    .dataframe tbody tr th {\n",
              "        vertical-align: top;\n",
              "    }\n",
              "\n",
              "    .dataframe thead th {\n",
              "        text-align: right;\n",
              "    }\n",
              "</style>\n",
              "<table border=\"1\" class=\"dataframe\">\n",
              "  <thead>\n",
              "    <tr style=\"text-align: right;\">\n",
              "      <th></th>\n",
              "      <th>CreditScore</th>\n",
              "      <th>Geography</th>\n",
              "      <th>Gender</th>\n",
              "      <th>Age</th>\n",
              "      <th>Tenure</th>\n",
              "      <th>Balance</th>\n",
              "      <th>NumOfProducts</th>\n",
              "      <th>HasCrCard</th>\n",
              "      <th>IsActiveMember</th>\n",
              "      <th>EstimatedSalary</th>\n",
              "      <th>Exited</th>\n",
              "    </tr>\n",
              "  </thead>\n",
              "  <tbody>\n",
              "    <tr>\n",
              "      <th>0</th>\n",
              "      <td>619</td>\n",
              "      <td>France</td>\n",
              "      <td>Female</td>\n",
              "      <td>42</td>\n",
              "      <td>2</td>\n",
              "      <td>0.00</td>\n",
              "      <td>1</td>\n",
              "      <td>1</td>\n",
              "      <td>1</td>\n",
              "      <td>101348.88</td>\n",
              "      <td>1</td>\n",
              "    </tr>\n",
              "    <tr>\n",
              "      <th>1</th>\n",
              "      <td>608</td>\n",
              "      <td>Spain</td>\n",
              "      <td>Female</td>\n",
              "      <td>41</td>\n",
              "      <td>1</td>\n",
              "      <td>83807.86</td>\n",
              "      <td>1</td>\n",
              "      <td>0</td>\n",
              "      <td>1</td>\n",
              "      <td>112542.58</td>\n",
              "      <td>0</td>\n",
              "    </tr>\n",
              "    <tr>\n",
              "      <th>2</th>\n",
              "      <td>502</td>\n",
              "      <td>France</td>\n",
              "      <td>Female</td>\n",
              "      <td>42</td>\n",
              "      <td>8</td>\n",
              "      <td>159660.80</td>\n",
              "      <td>3</td>\n",
              "      <td>1</td>\n",
              "      <td>0</td>\n",
              "      <td>113931.57</td>\n",
              "      <td>1</td>\n",
              "    </tr>\n",
              "    <tr>\n",
              "      <th>3</th>\n",
              "      <td>699</td>\n",
              "      <td>France</td>\n",
              "      <td>Female</td>\n",
              "      <td>39</td>\n",
              "      <td>1</td>\n",
              "      <td>0.00</td>\n",
              "      <td>2</td>\n",
              "      <td>0</td>\n",
              "      <td>0</td>\n",
              "      <td>93826.63</td>\n",
              "      <td>0</td>\n",
              "    </tr>\n",
              "    <tr>\n",
              "      <th>4</th>\n",
              "      <td>850</td>\n",
              "      <td>Spain</td>\n",
              "      <td>Female</td>\n",
              "      <td>43</td>\n",
              "      <td>2</td>\n",
              "      <td>125510.82</td>\n",
              "      <td>1</td>\n",
              "      <td>1</td>\n",
              "      <td>1</td>\n",
              "      <td>79084.10</td>\n",
              "      <td>0</td>\n",
              "    </tr>\n",
              "  </tbody>\n",
              "</table>\n",
              "</div>\n",
              "    <div class=\"colab-df-buttons\">\n",
              "\n",
              "  <div class=\"colab-df-container\">\n",
              "    <button class=\"colab-df-convert\" onclick=\"convertToInteractive('df-93f3fee0-985b-4322-9457-599992671971')\"\n",
              "            title=\"Convert this dataframe to an interactive table.\"\n",
              "            style=\"display:none;\">\n",
              "\n",
              "  <svg xmlns=\"http://www.w3.org/2000/svg\" height=\"24px\" viewBox=\"0 -960 960 960\">\n",
              "    <path d=\"M120-120v-720h720v720H120Zm60-500h600v-160H180v160Zm220 220h160v-160H400v160Zm0 220h160v-160H400v160ZM180-400h160v-160H180v160Zm440 0h160v-160H620v160ZM180-180h160v-160H180v160Zm440 0h160v-160H620v160Z\"/>\n",
              "  </svg>\n",
              "    </button>\n",
              "\n",
              "  <style>\n",
              "    .colab-df-container {\n",
              "      display:flex;\n",
              "      gap: 12px;\n",
              "    }\n",
              "\n",
              "    .colab-df-convert {\n",
              "      background-color: #E8F0FE;\n",
              "      border: none;\n",
              "      border-radius: 50%;\n",
              "      cursor: pointer;\n",
              "      display: none;\n",
              "      fill: #1967D2;\n",
              "      height: 32px;\n",
              "      padding: 0 0 0 0;\n",
              "      width: 32px;\n",
              "    }\n",
              "\n",
              "    .colab-df-convert:hover {\n",
              "      background-color: #E2EBFA;\n",
              "      box-shadow: 0px 1px 2px rgba(60, 64, 67, 0.3), 0px 1px 3px 1px rgba(60, 64, 67, 0.15);\n",
              "      fill: #174EA6;\n",
              "    }\n",
              "\n",
              "    .colab-df-buttons div {\n",
              "      margin-bottom: 4px;\n",
              "    }\n",
              "\n",
              "    [theme=dark] .colab-df-convert {\n",
              "      background-color: #3B4455;\n",
              "      fill: #D2E3FC;\n",
              "    }\n",
              "\n",
              "    [theme=dark] .colab-df-convert:hover {\n",
              "      background-color: #434B5C;\n",
              "      box-shadow: 0px 1px 3px 1px rgba(0, 0, 0, 0.15);\n",
              "      filter: drop-shadow(0px 1px 2px rgba(0, 0, 0, 0.3));\n",
              "      fill: #FFFFFF;\n",
              "    }\n",
              "  </style>\n",
              "\n",
              "    <script>\n",
              "      const buttonEl =\n",
              "        document.querySelector('#df-93f3fee0-985b-4322-9457-599992671971 button.colab-df-convert');\n",
              "      buttonEl.style.display =\n",
              "        google.colab.kernel.accessAllowed ? 'block' : 'none';\n",
              "\n",
              "      async function convertToInteractive(key) {\n",
              "        const element = document.querySelector('#df-93f3fee0-985b-4322-9457-599992671971');\n",
              "        const dataTable =\n",
              "          await google.colab.kernel.invokeFunction('convertToInteractive',\n",
              "                                                    [key], {});\n",
              "        if (!dataTable) return;\n",
              "\n",
              "        const docLinkHtml = 'Like what you see? Visit the ' +\n",
              "          '<a target=\"_blank\" href=https://colab.research.google.com/notebooks/data_table.ipynb>data table notebook</a>'\n",
              "          + ' to learn more about interactive tables.';\n",
              "        element.innerHTML = '';\n",
              "        dataTable['output_type'] = 'display_data';\n",
              "        await google.colab.output.renderOutput(dataTable, element);\n",
              "        const docLink = document.createElement('div');\n",
              "        docLink.innerHTML = docLinkHtml;\n",
              "        element.appendChild(docLink);\n",
              "      }\n",
              "    </script>\n",
              "  </div>\n",
              "\n",
              "\n",
              "<div id=\"df-372a5027-35e7-48c5-a962-45f983e42729\">\n",
              "  <button class=\"colab-df-quickchart\" onclick=\"quickchart('df-372a5027-35e7-48c5-a962-45f983e42729')\"\n",
              "            title=\"Suggest charts\"\n",
              "            style=\"display:none;\">\n",
              "\n",
              "<svg xmlns=\"http://www.w3.org/2000/svg\" height=\"24px\"viewBox=\"0 0 24 24\"\n",
              "     width=\"24px\">\n",
              "    <g>\n",
              "        <path d=\"M19 3H5c-1.1 0-2 .9-2 2v14c0 1.1.9 2 2 2h14c1.1 0 2-.9 2-2V5c0-1.1-.9-2-2-2zM9 17H7v-7h2v7zm4 0h-2V7h2v10zm4 0h-2v-4h2v4z\"/>\n",
              "    </g>\n",
              "</svg>\n",
              "  </button>\n",
              "\n",
              "<style>\n",
              "  .colab-df-quickchart {\n",
              "      --bg-color: #E8F0FE;\n",
              "      --fill-color: #1967D2;\n",
              "      --hover-bg-color: #E2EBFA;\n",
              "      --hover-fill-color: #174EA6;\n",
              "      --disabled-fill-color: #AAA;\n",
              "      --disabled-bg-color: #DDD;\n",
              "  }\n",
              "\n",
              "  [theme=dark] .colab-df-quickchart {\n",
              "      --bg-color: #3B4455;\n",
              "      --fill-color: #D2E3FC;\n",
              "      --hover-bg-color: #434B5C;\n",
              "      --hover-fill-color: #FFFFFF;\n",
              "      --disabled-bg-color: #3B4455;\n",
              "      --disabled-fill-color: #666;\n",
              "  }\n",
              "\n",
              "  .colab-df-quickchart {\n",
              "    background-color: var(--bg-color);\n",
              "    border: none;\n",
              "    border-radius: 50%;\n",
              "    cursor: pointer;\n",
              "    display: none;\n",
              "    fill: var(--fill-color);\n",
              "    height: 32px;\n",
              "    padding: 0;\n",
              "    width: 32px;\n",
              "  }\n",
              "\n",
              "  .colab-df-quickchart:hover {\n",
              "    background-color: var(--hover-bg-color);\n",
              "    box-shadow: 0 1px 2px rgba(60, 64, 67, 0.3), 0 1px 3px 1px rgba(60, 64, 67, 0.15);\n",
              "    fill: var(--button-hover-fill-color);\n",
              "  }\n",
              "\n",
              "  .colab-df-quickchart-complete:disabled,\n",
              "  .colab-df-quickchart-complete:disabled:hover {\n",
              "    background-color: var(--disabled-bg-color);\n",
              "    fill: var(--disabled-fill-color);\n",
              "    box-shadow: none;\n",
              "  }\n",
              "\n",
              "  .colab-df-spinner {\n",
              "    border: 2px solid var(--fill-color);\n",
              "    border-color: transparent;\n",
              "    border-bottom-color: var(--fill-color);\n",
              "    animation:\n",
              "      spin 1s steps(1) infinite;\n",
              "  }\n",
              "\n",
              "  @keyframes spin {\n",
              "    0% {\n",
              "      border-color: transparent;\n",
              "      border-bottom-color: var(--fill-color);\n",
              "      border-left-color: var(--fill-color);\n",
              "    }\n",
              "    20% {\n",
              "      border-color: transparent;\n",
              "      border-left-color: var(--fill-color);\n",
              "      border-top-color: var(--fill-color);\n",
              "    }\n",
              "    30% {\n",
              "      border-color: transparent;\n",
              "      border-left-color: var(--fill-color);\n",
              "      border-top-color: var(--fill-color);\n",
              "      border-right-color: var(--fill-color);\n",
              "    }\n",
              "    40% {\n",
              "      border-color: transparent;\n",
              "      border-right-color: var(--fill-color);\n",
              "      border-top-color: var(--fill-color);\n",
              "    }\n",
              "    60% {\n",
              "      border-color: transparent;\n",
              "      border-right-color: var(--fill-color);\n",
              "    }\n",
              "    80% {\n",
              "      border-color: transparent;\n",
              "      border-right-color: var(--fill-color);\n",
              "      border-bottom-color: var(--fill-color);\n",
              "    }\n",
              "    90% {\n",
              "      border-color: transparent;\n",
              "      border-bottom-color: var(--fill-color);\n",
              "    }\n",
              "  }\n",
              "</style>\n",
              "\n",
              "  <script>\n",
              "    async function quickchart(key) {\n",
              "      const quickchartButtonEl =\n",
              "        document.querySelector('#' + key + ' button');\n",
              "      quickchartButtonEl.disabled = true;  // To prevent multiple clicks.\n",
              "      quickchartButtonEl.classList.add('colab-df-spinner');\n",
              "      try {\n",
              "        const charts = await google.colab.kernel.invokeFunction(\n",
              "            'suggestCharts', [key], {});\n",
              "      } catch (error) {\n",
              "        console.error('Error during call to suggestCharts:', error);\n",
              "      }\n",
              "      quickchartButtonEl.classList.remove('colab-df-spinner');\n",
              "      quickchartButtonEl.classList.add('colab-df-quickchart-complete');\n",
              "    }\n",
              "    (() => {\n",
              "      let quickchartButtonEl =\n",
              "        document.querySelector('#df-372a5027-35e7-48c5-a962-45f983e42729 button');\n",
              "      quickchartButtonEl.style.display =\n",
              "        google.colab.kernel.accessAllowed ? 'block' : 'none';\n",
              "    })();\n",
              "  </script>\n",
              "</div>\n",
              "\n",
              "    </div>\n",
              "  </div>\n"
            ],
            "application/vnd.google.colaboratory.intrinsic+json": {
              "type": "dataframe",
              "variable_name": "data",
              "summary": "{\n  \"name\": \"data\",\n  \"rows\": 10000,\n  \"fields\": [\n    {\n      \"column\": \"CreditScore\",\n      \"properties\": {\n        \"dtype\": \"number\",\n        \"std\": 96,\n        \"min\": 350,\n        \"max\": 850,\n        \"num_unique_values\": 460,\n        \"samples\": [\n          754,\n          533,\n          744\n        ],\n        \"semantic_type\": \"\",\n        \"description\": \"\"\n      }\n    },\n    {\n      \"column\": \"Geography\",\n      \"properties\": {\n        \"dtype\": \"category\",\n        \"num_unique_values\": 3,\n        \"samples\": [\n          \"France\",\n          \"Spain\",\n          \"Germany\"\n        ],\n        \"semantic_type\": \"\",\n        \"description\": \"\"\n      }\n    },\n    {\n      \"column\": \"Gender\",\n      \"properties\": {\n        \"dtype\": \"category\",\n        \"num_unique_values\": 2,\n        \"samples\": [\n          \"Male\",\n          \"Female\"\n        ],\n        \"semantic_type\": \"\",\n        \"description\": \"\"\n      }\n    },\n    {\n      \"column\": \"Age\",\n      \"properties\": {\n        \"dtype\": \"number\",\n        \"std\": 10,\n        \"min\": 18,\n        \"max\": 92,\n        \"num_unique_values\": 70,\n        \"samples\": [\n          61,\n          42\n        ],\n        \"semantic_type\": \"\",\n        \"description\": \"\"\n      }\n    },\n    {\n      \"column\": \"Tenure\",\n      \"properties\": {\n        \"dtype\": \"number\",\n        \"std\": 2,\n        \"min\": 0,\n        \"max\": 10,\n        \"num_unique_values\": 11,\n        \"samples\": [\n          6,\n          2\n        ],\n        \"semantic_type\": \"\",\n        \"description\": \"\"\n      }\n    },\n    {\n      \"column\": \"Balance\",\n      \"properties\": {\n        \"dtype\": \"number\",\n        \"std\": 62397.40520238623,\n        \"min\": 0.0,\n        \"max\": 250898.09,\n        \"num_unique_values\": 6382,\n        \"samples\": [\n          117707.18,\n          133050.97\n        ],\n        \"semantic_type\": \"\",\n        \"description\": \"\"\n      }\n    },\n    {\n      \"column\": \"NumOfProducts\",\n      \"properties\": {\n        \"dtype\": \"number\",\n        \"std\": 0,\n        \"min\": 1,\n        \"max\": 4,\n        \"num_unique_values\": 4,\n        \"samples\": [\n          3,\n          4\n        ],\n        \"semantic_type\": \"\",\n        \"description\": \"\"\n      }\n    },\n    {\n      \"column\": \"HasCrCard\",\n      \"properties\": {\n        \"dtype\": \"number\",\n        \"std\": 0,\n        \"min\": 0,\n        \"max\": 1,\n        \"num_unique_values\": 2,\n        \"samples\": [\n          0,\n          1\n        ],\n        \"semantic_type\": \"\",\n        \"description\": \"\"\n      }\n    },\n    {\n      \"column\": \"IsActiveMember\",\n      \"properties\": {\n        \"dtype\": \"number\",\n        \"std\": 0,\n        \"min\": 0,\n        \"max\": 1,\n        \"num_unique_values\": 2,\n        \"samples\": [\n          0,\n          1\n        ],\n        \"semantic_type\": \"\",\n        \"description\": \"\"\n      }\n    },\n    {\n      \"column\": \"EstimatedSalary\",\n      \"properties\": {\n        \"dtype\": \"number\",\n        \"std\": 57510.49281769822,\n        \"min\": 11.58,\n        \"max\": 199992.48,\n        \"num_unique_values\": 9999,\n        \"samples\": [\n          100809.99,\n          95273.73\n        ],\n        \"semantic_type\": \"\",\n        \"description\": \"\"\n      }\n    },\n    {\n      \"column\": \"Exited\",\n      \"properties\": {\n        \"dtype\": \"number\",\n        \"std\": 0,\n        \"min\": 0,\n        \"max\": 1,\n        \"num_unique_values\": 2,\n        \"samples\": [\n          0,\n          1\n        ],\n        \"semantic_type\": \"\",\n        \"description\": \"\"\n      }\n    }\n  ]\n}"
            }
          },
          "metadata": {},
          "execution_count": 10
        }
      ]
    },
    {
      "cell_type": "markdown",
      "source": [
        "7. Identify and count all missing values (NaN) in every column"
      ],
      "metadata": {
        "id": "GPO-aybVi44-"
      }
    },
    {
      "cell_type": "code",
      "source": [
        "data.isnull().sum()"
      ],
      "metadata": {
        "colab": {
          "base_uri": "https://localhost:8080/",
          "height": 429
        },
        "id": "P4XqJ2YJjBm2",
        "outputId": "32c83fdd-1df6-4dea-a968-1d8771ecbde8"
      },
      "execution_count": 11,
      "outputs": [
        {
          "output_type": "execute_result",
          "data": {
            "text/plain": [
              "CreditScore        0\n",
              "Geography          0\n",
              "Gender             0\n",
              "Age                0\n",
              "Tenure             0\n",
              "Balance            0\n",
              "NumOfProducts      0\n",
              "HasCrCard          0\n",
              "IsActiveMember     0\n",
              "EstimatedSalary    0\n",
              "Exited             0\n",
              "dtype: int64"
            ],
            "text/html": [
              "<div>\n",
              "<style scoped>\n",
              "    .dataframe tbody tr th:only-of-type {\n",
              "        vertical-align: middle;\n",
              "    }\n",
              "\n",
              "    .dataframe tbody tr th {\n",
              "        vertical-align: top;\n",
              "    }\n",
              "\n",
              "    .dataframe thead th {\n",
              "        text-align: right;\n",
              "    }\n",
              "</style>\n",
              "<table border=\"1\" class=\"dataframe\">\n",
              "  <thead>\n",
              "    <tr style=\"text-align: right;\">\n",
              "      <th></th>\n",
              "      <th>0</th>\n",
              "    </tr>\n",
              "  </thead>\n",
              "  <tbody>\n",
              "    <tr>\n",
              "      <th>CreditScore</th>\n",
              "      <td>0</td>\n",
              "    </tr>\n",
              "    <tr>\n",
              "      <th>Geography</th>\n",
              "      <td>0</td>\n",
              "    </tr>\n",
              "    <tr>\n",
              "      <th>Gender</th>\n",
              "      <td>0</td>\n",
              "    </tr>\n",
              "    <tr>\n",
              "      <th>Age</th>\n",
              "      <td>0</td>\n",
              "    </tr>\n",
              "    <tr>\n",
              "      <th>Tenure</th>\n",
              "      <td>0</td>\n",
              "    </tr>\n",
              "    <tr>\n",
              "      <th>Balance</th>\n",
              "      <td>0</td>\n",
              "    </tr>\n",
              "    <tr>\n",
              "      <th>NumOfProducts</th>\n",
              "      <td>0</td>\n",
              "    </tr>\n",
              "    <tr>\n",
              "      <th>HasCrCard</th>\n",
              "      <td>0</td>\n",
              "    </tr>\n",
              "    <tr>\n",
              "      <th>IsActiveMember</th>\n",
              "      <td>0</td>\n",
              "    </tr>\n",
              "    <tr>\n",
              "      <th>EstimatedSalary</th>\n",
              "      <td>0</td>\n",
              "    </tr>\n",
              "    <tr>\n",
              "      <th>Exited</th>\n",
              "      <td>0</td>\n",
              "    </tr>\n",
              "  </tbody>\n",
              "</table>\n",
              "</div><br><label><b>dtype:</b> int64</label>"
            ]
          },
          "metadata": {},
          "execution_count": 11
        }
      ]
    },
    {
      "cell_type": "code",
      "source": [
        "data.info()"
      ],
      "metadata": {
        "colab": {
          "base_uri": "https://localhost:8080/"
        },
        "id": "NqlLs_5FjU2M",
        "outputId": "b0057d85-4d77-49ad-efdd-1bdee149bc89"
      },
      "execution_count": 12,
      "outputs": [
        {
          "output_type": "stream",
          "name": "stdout",
          "text": [
            "<class 'pandas.core.frame.DataFrame'>\n",
            "RangeIndex: 10000 entries, 0 to 9999\n",
            "Data columns (total 11 columns):\n",
            " #   Column           Non-Null Count  Dtype  \n",
            "---  ------           --------------  -----  \n",
            " 0   CreditScore      10000 non-null  int64  \n",
            " 1   Geography        10000 non-null  object \n",
            " 2   Gender           10000 non-null  object \n",
            " 3   Age              10000 non-null  int64  \n",
            " 4   Tenure           10000 non-null  int64  \n",
            " 5   Balance          10000 non-null  float64\n",
            " 6   NumOfProducts    10000 non-null  int64  \n",
            " 7   HasCrCard        10000 non-null  int64  \n",
            " 8   IsActiveMember   10000 non-null  int64  \n",
            " 9   EstimatedSalary  10000 non-null  float64\n",
            " 10  Exited           10000 non-null  int64  \n",
            "dtypes: float64(2), int64(7), object(2)\n",
            "memory usage: 859.5+ KB\n"
          ]
        }
      ]
    },
    {
      "cell_type": "markdown",
      "source": [
        "10. Describe statistics on numeric columns"
      ],
      "metadata": {
        "id": "lxIHLlYTjZr9"
      }
    },
    {
      "cell_type": "code",
      "source": [
        "data.describe()"
      ],
      "metadata": {
        "colab": {
          "base_uri": "https://localhost:8080/",
          "height": 320
        },
        "id": "hbBMX_06jeav",
        "outputId": "3816f060-8963-4e75-c34a-9b406c19eb08"
      },
      "execution_count": 13,
      "outputs": [
        {
          "output_type": "execute_result",
          "data": {
            "text/plain": [
              "        CreditScore           Age        Tenure        Balance  NumOfProducts  \\\n",
              "count  10000.000000  10000.000000  10000.000000   10000.000000   10000.000000   \n",
              "mean     650.528800     38.921800      5.012800   76485.889288       1.530200   \n",
              "std       96.653299     10.487806      2.892174   62397.405202       0.581654   \n",
              "min      350.000000     18.000000      0.000000       0.000000       1.000000   \n",
              "25%      584.000000     32.000000      3.000000       0.000000       1.000000   \n",
              "50%      652.000000     37.000000      5.000000   97198.540000       1.000000   \n",
              "75%      718.000000     44.000000      7.000000  127644.240000       2.000000   \n",
              "max      850.000000     92.000000     10.000000  250898.090000       4.000000   \n",
              "\n",
              "         HasCrCard  IsActiveMember  EstimatedSalary        Exited  \n",
              "count  10000.00000    10000.000000     10000.000000  10000.000000  \n",
              "mean       0.70550        0.515100    100090.239881      0.203700  \n",
              "std        0.45584        0.499797     57510.492818      0.402769  \n",
              "min        0.00000        0.000000        11.580000      0.000000  \n",
              "25%        0.00000        0.000000     51002.110000      0.000000  \n",
              "50%        1.00000        1.000000    100193.915000      0.000000  \n",
              "75%        1.00000        1.000000    149388.247500      0.000000  \n",
              "max        1.00000        1.000000    199992.480000      1.000000  "
            ],
            "text/html": [
              "\n",
              "  <div id=\"df-145b76ed-0fb7-4351-933b-0626afd29480\" class=\"colab-df-container\">\n",
              "    <div>\n",
              "<style scoped>\n",
              "    .dataframe tbody tr th:only-of-type {\n",
              "        vertical-align: middle;\n",
              "    }\n",
              "\n",
              "    .dataframe tbody tr th {\n",
              "        vertical-align: top;\n",
              "    }\n",
              "\n",
              "    .dataframe thead th {\n",
              "        text-align: right;\n",
              "    }\n",
              "</style>\n",
              "<table border=\"1\" class=\"dataframe\">\n",
              "  <thead>\n",
              "    <tr style=\"text-align: right;\">\n",
              "      <th></th>\n",
              "      <th>CreditScore</th>\n",
              "      <th>Age</th>\n",
              "      <th>Tenure</th>\n",
              "      <th>Balance</th>\n",
              "      <th>NumOfProducts</th>\n",
              "      <th>HasCrCard</th>\n",
              "      <th>IsActiveMember</th>\n",
              "      <th>EstimatedSalary</th>\n",
              "      <th>Exited</th>\n",
              "    </tr>\n",
              "  </thead>\n",
              "  <tbody>\n",
              "    <tr>\n",
              "      <th>count</th>\n",
              "      <td>10000.000000</td>\n",
              "      <td>10000.000000</td>\n",
              "      <td>10000.000000</td>\n",
              "      <td>10000.000000</td>\n",
              "      <td>10000.000000</td>\n",
              "      <td>10000.00000</td>\n",
              "      <td>10000.000000</td>\n",
              "      <td>10000.000000</td>\n",
              "      <td>10000.000000</td>\n",
              "    </tr>\n",
              "    <tr>\n",
              "      <th>mean</th>\n",
              "      <td>650.528800</td>\n",
              "      <td>38.921800</td>\n",
              "      <td>5.012800</td>\n",
              "      <td>76485.889288</td>\n",
              "      <td>1.530200</td>\n",
              "      <td>0.70550</td>\n",
              "      <td>0.515100</td>\n",
              "      <td>100090.239881</td>\n",
              "      <td>0.203700</td>\n",
              "    </tr>\n",
              "    <tr>\n",
              "      <th>std</th>\n",
              "      <td>96.653299</td>\n",
              "      <td>10.487806</td>\n",
              "      <td>2.892174</td>\n",
              "      <td>62397.405202</td>\n",
              "      <td>0.581654</td>\n",
              "      <td>0.45584</td>\n",
              "      <td>0.499797</td>\n",
              "      <td>57510.492818</td>\n",
              "      <td>0.402769</td>\n",
              "    </tr>\n",
              "    <tr>\n",
              "      <th>min</th>\n",
              "      <td>350.000000</td>\n",
              "      <td>18.000000</td>\n",
              "      <td>0.000000</td>\n",
              "      <td>0.000000</td>\n",
              "      <td>1.000000</td>\n",
              "      <td>0.00000</td>\n",
              "      <td>0.000000</td>\n",
              "      <td>11.580000</td>\n",
              "      <td>0.000000</td>\n",
              "    </tr>\n",
              "    <tr>\n",
              "      <th>25%</th>\n",
              "      <td>584.000000</td>\n",
              "      <td>32.000000</td>\n",
              "      <td>3.000000</td>\n",
              "      <td>0.000000</td>\n",
              "      <td>1.000000</td>\n",
              "      <td>0.00000</td>\n",
              "      <td>0.000000</td>\n",
              "      <td>51002.110000</td>\n",
              "      <td>0.000000</td>\n",
              "    </tr>\n",
              "    <tr>\n",
              "      <th>50%</th>\n",
              "      <td>652.000000</td>\n",
              "      <td>37.000000</td>\n",
              "      <td>5.000000</td>\n",
              "      <td>97198.540000</td>\n",
              "      <td>1.000000</td>\n",
              "      <td>1.00000</td>\n",
              "      <td>1.000000</td>\n",
              "      <td>100193.915000</td>\n",
              "      <td>0.000000</td>\n",
              "    </tr>\n",
              "    <tr>\n",
              "      <th>75%</th>\n",
              "      <td>718.000000</td>\n",
              "      <td>44.000000</td>\n",
              "      <td>7.000000</td>\n",
              "      <td>127644.240000</td>\n",
              "      <td>2.000000</td>\n",
              "      <td>1.00000</td>\n",
              "      <td>1.000000</td>\n",
              "      <td>149388.247500</td>\n",
              "      <td>0.000000</td>\n",
              "    </tr>\n",
              "    <tr>\n",
              "      <th>max</th>\n",
              "      <td>850.000000</td>\n",
              "      <td>92.000000</td>\n",
              "      <td>10.000000</td>\n",
              "      <td>250898.090000</td>\n",
              "      <td>4.000000</td>\n",
              "      <td>1.00000</td>\n",
              "      <td>1.000000</td>\n",
              "      <td>199992.480000</td>\n",
              "      <td>1.000000</td>\n",
              "    </tr>\n",
              "  </tbody>\n",
              "</table>\n",
              "</div>\n",
              "    <div class=\"colab-df-buttons\">\n",
              "\n",
              "  <div class=\"colab-df-container\">\n",
              "    <button class=\"colab-df-convert\" onclick=\"convertToInteractive('df-145b76ed-0fb7-4351-933b-0626afd29480')\"\n",
              "            title=\"Convert this dataframe to an interactive table.\"\n",
              "            style=\"display:none;\">\n",
              "\n",
              "  <svg xmlns=\"http://www.w3.org/2000/svg\" height=\"24px\" viewBox=\"0 -960 960 960\">\n",
              "    <path d=\"M120-120v-720h720v720H120Zm60-500h600v-160H180v160Zm220 220h160v-160H400v160Zm0 220h160v-160H400v160ZM180-400h160v-160H180v160Zm440 0h160v-160H620v160ZM180-180h160v-160H180v160Zm440 0h160v-160H620v160Z\"/>\n",
              "  </svg>\n",
              "    </button>\n",
              "\n",
              "  <style>\n",
              "    .colab-df-container {\n",
              "      display:flex;\n",
              "      gap: 12px;\n",
              "    }\n",
              "\n",
              "    .colab-df-convert {\n",
              "      background-color: #E8F0FE;\n",
              "      border: none;\n",
              "      border-radius: 50%;\n",
              "      cursor: pointer;\n",
              "      display: none;\n",
              "      fill: #1967D2;\n",
              "      height: 32px;\n",
              "      padding: 0 0 0 0;\n",
              "      width: 32px;\n",
              "    }\n",
              "\n",
              "    .colab-df-convert:hover {\n",
              "      background-color: #E2EBFA;\n",
              "      box-shadow: 0px 1px 2px rgba(60, 64, 67, 0.3), 0px 1px 3px 1px rgba(60, 64, 67, 0.15);\n",
              "      fill: #174EA6;\n",
              "    }\n",
              "\n",
              "    .colab-df-buttons div {\n",
              "      margin-bottom: 4px;\n",
              "    }\n",
              "\n",
              "    [theme=dark] .colab-df-convert {\n",
              "      background-color: #3B4455;\n",
              "      fill: #D2E3FC;\n",
              "    }\n",
              "\n",
              "    [theme=dark] .colab-df-convert:hover {\n",
              "      background-color: #434B5C;\n",
              "      box-shadow: 0px 1px 3px 1px rgba(0, 0, 0, 0.15);\n",
              "      filter: drop-shadow(0px 1px 2px rgba(0, 0, 0, 0.3));\n",
              "      fill: #FFFFFF;\n",
              "    }\n",
              "  </style>\n",
              "\n",
              "    <script>\n",
              "      const buttonEl =\n",
              "        document.querySelector('#df-145b76ed-0fb7-4351-933b-0626afd29480 button.colab-df-convert');\n",
              "      buttonEl.style.display =\n",
              "        google.colab.kernel.accessAllowed ? 'block' : 'none';\n",
              "\n",
              "      async function convertToInteractive(key) {\n",
              "        const element = document.querySelector('#df-145b76ed-0fb7-4351-933b-0626afd29480');\n",
              "        const dataTable =\n",
              "          await google.colab.kernel.invokeFunction('convertToInteractive',\n",
              "                                                    [key], {});\n",
              "        if (!dataTable) return;\n",
              "\n",
              "        const docLinkHtml = 'Like what you see? Visit the ' +\n",
              "          '<a target=\"_blank\" href=https://colab.research.google.com/notebooks/data_table.ipynb>data table notebook</a>'\n",
              "          + ' to learn more about interactive tables.';\n",
              "        element.innerHTML = '';\n",
              "        dataTable['output_type'] = 'display_data';\n",
              "        await google.colab.output.renderOutput(dataTable, element);\n",
              "        const docLink = document.createElement('div');\n",
              "        docLink.innerHTML = docLinkHtml;\n",
              "        element.appendChild(docLink);\n",
              "      }\n",
              "    </script>\n",
              "  </div>\n",
              "\n",
              "\n",
              "<div id=\"df-01e40a09-0fcb-470b-8358-f541d0c51478\">\n",
              "  <button class=\"colab-df-quickchart\" onclick=\"quickchart('df-01e40a09-0fcb-470b-8358-f541d0c51478')\"\n",
              "            title=\"Suggest charts\"\n",
              "            style=\"display:none;\">\n",
              "\n",
              "<svg xmlns=\"http://www.w3.org/2000/svg\" height=\"24px\"viewBox=\"0 0 24 24\"\n",
              "     width=\"24px\">\n",
              "    <g>\n",
              "        <path d=\"M19 3H5c-1.1 0-2 .9-2 2v14c0 1.1.9 2 2 2h14c1.1 0 2-.9 2-2V5c0-1.1-.9-2-2-2zM9 17H7v-7h2v7zm4 0h-2V7h2v10zm4 0h-2v-4h2v4z\"/>\n",
              "    </g>\n",
              "</svg>\n",
              "  </button>\n",
              "\n",
              "<style>\n",
              "  .colab-df-quickchart {\n",
              "      --bg-color: #E8F0FE;\n",
              "      --fill-color: #1967D2;\n",
              "      --hover-bg-color: #E2EBFA;\n",
              "      --hover-fill-color: #174EA6;\n",
              "      --disabled-fill-color: #AAA;\n",
              "      --disabled-bg-color: #DDD;\n",
              "  }\n",
              "\n",
              "  [theme=dark] .colab-df-quickchart {\n",
              "      --bg-color: #3B4455;\n",
              "      --fill-color: #D2E3FC;\n",
              "      --hover-bg-color: #434B5C;\n",
              "      --hover-fill-color: #FFFFFF;\n",
              "      --disabled-bg-color: #3B4455;\n",
              "      --disabled-fill-color: #666;\n",
              "  }\n",
              "\n",
              "  .colab-df-quickchart {\n",
              "    background-color: var(--bg-color);\n",
              "    border: none;\n",
              "    border-radius: 50%;\n",
              "    cursor: pointer;\n",
              "    display: none;\n",
              "    fill: var(--fill-color);\n",
              "    height: 32px;\n",
              "    padding: 0;\n",
              "    width: 32px;\n",
              "  }\n",
              "\n",
              "  .colab-df-quickchart:hover {\n",
              "    background-color: var(--hover-bg-color);\n",
              "    box-shadow: 0 1px 2px rgba(60, 64, 67, 0.3), 0 1px 3px 1px rgba(60, 64, 67, 0.15);\n",
              "    fill: var(--button-hover-fill-color);\n",
              "  }\n",
              "\n",
              "  .colab-df-quickchart-complete:disabled,\n",
              "  .colab-df-quickchart-complete:disabled:hover {\n",
              "    background-color: var(--disabled-bg-color);\n",
              "    fill: var(--disabled-fill-color);\n",
              "    box-shadow: none;\n",
              "  }\n",
              "\n",
              "  .colab-df-spinner {\n",
              "    border: 2px solid var(--fill-color);\n",
              "    border-color: transparent;\n",
              "    border-bottom-color: var(--fill-color);\n",
              "    animation:\n",
              "      spin 1s steps(1) infinite;\n",
              "  }\n",
              "\n",
              "  @keyframes spin {\n",
              "    0% {\n",
              "      border-color: transparent;\n",
              "      border-bottom-color: var(--fill-color);\n",
              "      border-left-color: var(--fill-color);\n",
              "    }\n",
              "    20% {\n",
              "      border-color: transparent;\n",
              "      border-left-color: var(--fill-color);\n",
              "      border-top-color: var(--fill-color);\n",
              "    }\n",
              "    30% {\n",
              "      border-color: transparent;\n",
              "      border-left-color: var(--fill-color);\n",
              "      border-top-color: var(--fill-color);\n",
              "      border-right-color: var(--fill-color);\n",
              "    }\n",
              "    40% {\n",
              "      border-color: transparent;\n",
              "      border-right-color: var(--fill-color);\n",
              "      border-top-color: var(--fill-color);\n",
              "    }\n",
              "    60% {\n",
              "      border-color: transparent;\n",
              "      border-right-color: var(--fill-color);\n",
              "    }\n",
              "    80% {\n",
              "      border-color: transparent;\n",
              "      border-right-color: var(--fill-color);\n",
              "      border-bottom-color: var(--fill-color);\n",
              "    }\n",
              "    90% {\n",
              "      border-color: transparent;\n",
              "      border-bottom-color: var(--fill-color);\n",
              "    }\n",
              "  }\n",
              "</style>\n",
              "\n",
              "  <script>\n",
              "    async function quickchart(key) {\n",
              "      const quickchartButtonEl =\n",
              "        document.querySelector('#' + key + ' button');\n",
              "      quickchartButtonEl.disabled = true;  // To prevent multiple clicks.\n",
              "      quickchartButtonEl.classList.add('colab-df-spinner');\n",
              "      try {\n",
              "        const charts = await google.colab.kernel.invokeFunction(\n",
              "            'suggestCharts', [key], {});\n",
              "      } catch (error) {\n",
              "        console.error('Error during call to suggestCharts:', error);\n",
              "      }\n",
              "      quickchartButtonEl.classList.remove('colab-df-spinner');\n",
              "      quickchartButtonEl.classList.add('colab-df-quickchart-complete');\n",
              "    }\n",
              "    (() => {\n",
              "      let quickchartButtonEl =\n",
              "        document.querySelector('#df-01e40a09-0fcb-470b-8358-f541d0c51478 button');\n",
              "      quickchartButtonEl.style.display =\n",
              "        google.colab.kernel.accessAllowed ? 'block' : 'none';\n",
              "    })();\n",
              "  </script>\n",
              "</div>\n",
              "\n",
              "    </div>\n",
              "  </div>\n"
            ],
            "application/vnd.google.colaboratory.intrinsic+json": {
              "type": "dataframe",
              "summary": "{\n  \"name\": \"data\",\n  \"rows\": 8,\n  \"fields\": [\n    {\n      \"column\": \"CreditScore\",\n      \"properties\": {\n        \"dtype\": \"number\",\n        \"std\": 3346.722396870626,\n        \"min\": 96.65329873613061,\n        \"max\": 10000.0,\n        \"num_unique_values\": 8,\n        \"samples\": [\n          650.5288,\n          652.0,\n          10000.0\n        ],\n        \"semantic_type\": \"\",\n        \"description\": \"\"\n      }\n    },\n    {\n      \"column\": \"Age\",\n      \"properties\": {\n        \"dtype\": \"number\",\n        \"std\": 3521.859127755016,\n        \"min\": 10.487806451704591,\n        \"max\": 10000.0,\n        \"num_unique_values\": 8,\n        \"samples\": [\n          38.9218,\n          37.0,\n          10000.0\n        ],\n        \"semantic_type\": \"\",\n        \"description\": \"\"\n      }\n    },\n    {\n      \"column\": \"Tenure\",\n      \"properties\": {\n        \"dtype\": \"number\",\n        \"std\": 3533.873203213367,\n        \"min\": 0.0,\n        \"max\": 10000.0,\n        \"num_unique_values\": 8,\n        \"samples\": [\n          5.0128,\n          5.0,\n          10000.0\n        ],\n        \"semantic_type\": \"\",\n        \"description\": \"\"\n      }\n    },\n    {\n      \"column\": \"Balance\",\n      \"properties\": {\n        \"dtype\": \"number\",\n        \"std\": 84316.21503683121,\n        \"min\": 0.0,\n        \"max\": 250898.09,\n        \"num_unique_values\": 7,\n        \"samples\": [\n          10000.0,\n          76485.889288,\n          127644.24\n        ],\n        \"semantic_type\": \"\",\n        \"description\": \"\"\n      }\n    },\n    {\n      \"column\": \"NumOfProducts\",\n      \"properties\": {\n        \"dtype\": \"number\",\n        \"std\": 3534.972835009293,\n        \"min\": 0.5816543579989936,\n        \"max\": 10000.0,\n        \"num_unique_values\": 6,\n        \"samples\": [\n          10000.0,\n          1.5302,\n          4.0\n        ],\n        \"semantic_type\": \"\",\n        \"description\": \"\"\n      }\n    },\n    {\n      \"column\": \"HasCrCard\",\n      \"properties\": {\n        \"dtype\": \"number\",\n        \"std\": 3535.323751385342,\n        \"min\": 0.0,\n        \"max\": 10000.0,\n        \"num_unique_values\": 5,\n        \"samples\": [\n          0.7055,\n          1.0,\n          0.45584046447514237\n        ],\n        \"semantic_type\": \"\",\n        \"description\": \"\"\n      }\n    },\n    {\n      \"column\": \"IsActiveMember\",\n      \"properties\": {\n        \"dtype\": \"number\",\n        \"std\": 3535.33114750997,\n        \"min\": 0.0,\n        \"max\": 10000.0,\n        \"num_unique_values\": 5,\n        \"samples\": [\n          0.5151,\n          1.0,\n          0.4997969284589202\n        ],\n        \"semantic_type\": \"\",\n        \"description\": \"\"\n      }\n    },\n    {\n      \"column\": \"EstimatedSalary\",\n      \"properties\": {\n        \"dtype\": \"number\",\n        \"std\": 68211.65700170657,\n        \"min\": 11.58,\n        \"max\": 199992.48,\n        \"num_unique_values\": 8,\n        \"samples\": [\n          100090.239881,\n          100193.915,\n          10000.0\n        ],\n        \"semantic_type\": \"\",\n        \"description\": \"\"\n      }\n    },\n    {\n      \"column\": \"Exited\",\n      \"properties\": {\n        \"dtype\": \"number\",\n        \"std\": 3535.452783887065,\n        \"min\": 0.0,\n        \"max\": 10000.0,\n        \"num_unique_values\": 5,\n        \"samples\": [\n          0.2037,\n          1.0,\n          0.40276858399484955\n        ],\n        \"semantic_type\": \"\",\n        \"description\": \"\"\n      }\n    }\n  ]\n}"
            }
          },
          "metadata": {},
          "execution_count": 13
        }
      ]
    },
    {
      "cell_type": "markdown",
      "source": [
        "Calculate Churn"
      ],
      "metadata": {
        "id": "QdoXJPr_jhWZ"
      }
    },
    {
      "cell_type": "code",
      "source": [
        "churn_rate = data['Exited'].mean() * 100\n",
        "print(f\"Le taux de churn est de : {churn_rate:.2f}%\")"
      ],
      "metadata": {
        "colab": {
          "base_uri": "https://localhost:8080/"
        },
        "id": "6pdzqyp4jkRI",
        "outputId": "fea304fb-32ac-4ee7-cb5a-fd491871c5be"
      },
      "execution_count": 14,
      "outputs": [
        {
          "output_type": "stream",
          "name": "stdout",
          "text": [
            "Le taux de churn est de : 20.37%\n"
          ]
        }
      ]
    },
    {
      "cell_type": "markdown",
      "source": [
        "11. Describe dtype variables"
      ],
      "metadata": {
        "id": "EfSga_IBjpAT"
      }
    },
    {
      "cell_type": "code",
      "source": [
        "data.select_dtypes(include=['object']).describe()"
      ],
      "metadata": {
        "colab": {
          "base_uri": "https://localhost:8080/",
          "height": 175
        },
        "id": "s8E6La17jtWb",
        "outputId": "a304af45-a4e5-49a0-92fb-66ffe7a55c96"
      },
      "execution_count": 15,
      "outputs": [
        {
          "output_type": "execute_result",
          "data": {
            "text/plain": [
              "       Geography Gender\n",
              "count      10000  10000\n",
              "unique         3      2\n",
              "top       France   Male\n",
              "freq        5014   5457"
            ],
            "text/html": [
              "\n",
              "  <div id=\"df-aaedd971-3e54-4e21-bb29-5d04caee3c09\" class=\"colab-df-container\">\n",
              "    <div>\n",
              "<style scoped>\n",
              "    .dataframe tbody tr th:only-of-type {\n",
              "        vertical-align: middle;\n",
              "    }\n",
              "\n",
              "    .dataframe tbody tr th {\n",
              "        vertical-align: top;\n",
              "    }\n",
              "\n",
              "    .dataframe thead th {\n",
              "        text-align: right;\n",
              "    }\n",
              "</style>\n",
              "<table border=\"1\" class=\"dataframe\">\n",
              "  <thead>\n",
              "    <tr style=\"text-align: right;\">\n",
              "      <th></th>\n",
              "      <th>Geography</th>\n",
              "      <th>Gender</th>\n",
              "    </tr>\n",
              "  </thead>\n",
              "  <tbody>\n",
              "    <tr>\n",
              "      <th>count</th>\n",
              "      <td>10000</td>\n",
              "      <td>10000</td>\n",
              "    </tr>\n",
              "    <tr>\n",
              "      <th>unique</th>\n",
              "      <td>3</td>\n",
              "      <td>2</td>\n",
              "    </tr>\n",
              "    <tr>\n",
              "      <th>top</th>\n",
              "      <td>France</td>\n",
              "      <td>Male</td>\n",
              "    </tr>\n",
              "    <tr>\n",
              "      <th>freq</th>\n",
              "      <td>5014</td>\n",
              "      <td>5457</td>\n",
              "    </tr>\n",
              "  </tbody>\n",
              "</table>\n",
              "</div>\n",
              "    <div class=\"colab-df-buttons\">\n",
              "\n",
              "  <div class=\"colab-df-container\">\n",
              "    <button class=\"colab-df-convert\" onclick=\"convertToInteractive('df-aaedd971-3e54-4e21-bb29-5d04caee3c09')\"\n",
              "            title=\"Convert this dataframe to an interactive table.\"\n",
              "            style=\"display:none;\">\n",
              "\n",
              "  <svg xmlns=\"http://www.w3.org/2000/svg\" height=\"24px\" viewBox=\"0 -960 960 960\">\n",
              "    <path d=\"M120-120v-720h720v720H120Zm60-500h600v-160H180v160Zm220 220h160v-160H400v160Zm0 220h160v-160H400v160ZM180-400h160v-160H180v160Zm440 0h160v-160H620v160ZM180-180h160v-160H180v160Zm440 0h160v-160H620v160Z\"/>\n",
              "  </svg>\n",
              "    </button>\n",
              "\n",
              "  <style>\n",
              "    .colab-df-container {\n",
              "      display:flex;\n",
              "      gap: 12px;\n",
              "    }\n",
              "\n",
              "    .colab-df-convert {\n",
              "      background-color: #E8F0FE;\n",
              "      border: none;\n",
              "      border-radius: 50%;\n",
              "      cursor: pointer;\n",
              "      display: none;\n",
              "      fill: #1967D2;\n",
              "      height: 32px;\n",
              "      padding: 0 0 0 0;\n",
              "      width: 32px;\n",
              "    }\n",
              "\n",
              "    .colab-df-convert:hover {\n",
              "      background-color: #E2EBFA;\n",
              "      box-shadow: 0px 1px 2px rgba(60, 64, 67, 0.3), 0px 1px 3px 1px rgba(60, 64, 67, 0.15);\n",
              "      fill: #174EA6;\n",
              "    }\n",
              "\n",
              "    .colab-df-buttons div {\n",
              "      margin-bottom: 4px;\n",
              "    }\n",
              "\n",
              "    [theme=dark] .colab-df-convert {\n",
              "      background-color: #3B4455;\n",
              "      fill: #D2E3FC;\n",
              "    }\n",
              "\n",
              "    [theme=dark] .colab-df-convert:hover {\n",
              "      background-color: #434B5C;\n",
              "      box-shadow: 0px 1px 3px 1px rgba(0, 0, 0, 0.15);\n",
              "      filter: drop-shadow(0px 1px 2px rgba(0, 0, 0, 0.3));\n",
              "      fill: #FFFFFF;\n",
              "    }\n",
              "  </style>\n",
              "\n",
              "    <script>\n",
              "      const buttonEl =\n",
              "        document.querySelector('#df-aaedd971-3e54-4e21-bb29-5d04caee3c09 button.colab-df-convert');\n",
              "      buttonEl.style.display =\n",
              "        google.colab.kernel.accessAllowed ? 'block' : 'none';\n",
              "\n",
              "      async function convertToInteractive(key) {\n",
              "        const element = document.querySelector('#df-aaedd971-3e54-4e21-bb29-5d04caee3c09');\n",
              "        const dataTable =\n",
              "          await google.colab.kernel.invokeFunction('convertToInteractive',\n",
              "                                                    [key], {});\n",
              "        if (!dataTable) return;\n",
              "\n",
              "        const docLinkHtml = 'Like what you see? Visit the ' +\n",
              "          '<a target=\"_blank\" href=https://colab.research.google.com/notebooks/data_table.ipynb>data table notebook</a>'\n",
              "          + ' to learn more about interactive tables.';\n",
              "        element.innerHTML = '';\n",
              "        dataTable['output_type'] = 'display_data';\n",
              "        await google.colab.output.renderOutput(dataTable, element);\n",
              "        const docLink = document.createElement('div');\n",
              "        docLink.innerHTML = docLinkHtml;\n",
              "        element.appendChild(docLink);\n",
              "      }\n",
              "    </script>\n",
              "  </div>\n",
              "\n",
              "\n",
              "<div id=\"df-f3e79765-74f5-4ffd-8473-fd3ba4d86ec7\">\n",
              "  <button class=\"colab-df-quickchart\" onclick=\"quickchart('df-f3e79765-74f5-4ffd-8473-fd3ba4d86ec7')\"\n",
              "            title=\"Suggest charts\"\n",
              "            style=\"display:none;\">\n",
              "\n",
              "<svg xmlns=\"http://www.w3.org/2000/svg\" height=\"24px\"viewBox=\"0 0 24 24\"\n",
              "     width=\"24px\">\n",
              "    <g>\n",
              "        <path d=\"M19 3H5c-1.1 0-2 .9-2 2v14c0 1.1.9 2 2 2h14c1.1 0 2-.9 2-2V5c0-1.1-.9-2-2-2zM9 17H7v-7h2v7zm4 0h-2V7h2v10zm4 0h-2v-4h2v4z\"/>\n",
              "    </g>\n",
              "</svg>\n",
              "  </button>\n",
              "\n",
              "<style>\n",
              "  .colab-df-quickchart {\n",
              "      --bg-color: #E8F0FE;\n",
              "      --fill-color: #1967D2;\n",
              "      --hover-bg-color: #E2EBFA;\n",
              "      --hover-fill-color: #174EA6;\n",
              "      --disabled-fill-color: #AAA;\n",
              "      --disabled-bg-color: #DDD;\n",
              "  }\n",
              "\n",
              "  [theme=dark] .colab-df-quickchart {\n",
              "      --bg-color: #3B4455;\n",
              "      --fill-color: #D2E3FC;\n",
              "      --hover-bg-color: #434B5C;\n",
              "      --hover-fill-color: #FFFFFF;\n",
              "      --disabled-bg-color: #3B4455;\n",
              "      --disabled-fill-color: #666;\n",
              "  }\n",
              "\n",
              "  .colab-df-quickchart {\n",
              "    background-color: var(--bg-color);\n",
              "    border: none;\n",
              "    border-radius: 50%;\n",
              "    cursor: pointer;\n",
              "    display: none;\n",
              "    fill: var(--fill-color);\n",
              "    height: 32px;\n",
              "    padding: 0;\n",
              "    width: 32px;\n",
              "  }\n",
              "\n",
              "  .colab-df-quickchart:hover {\n",
              "    background-color: var(--hover-bg-color);\n",
              "    box-shadow: 0 1px 2px rgba(60, 64, 67, 0.3), 0 1px 3px 1px rgba(60, 64, 67, 0.15);\n",
              "    fill: var(--button-hover-fill-color);\n",
              "  }\n",
              "\n",
              "  .colab-df-quickchart-complete:disabled,\n",
              "  .colab-df-quickchart-complete:disabled:hover {\n",
              "    background-color: var(--disabled-bg-color);\n",
              "    fill: var(--disabled-fill-color);\n",
              "    box-shadow: none;\n",
              "  }\n",
              "\n",
              "  .colab-df-spinner {\n",
              "    border: 2px solid var(--fill-color);\n",
              "    border-color: transparent;\n",
              "    border-bottom-color: var(--fill-color);\n",
              "    animation:\n",
              "      spin 1s steps(1) infinite;\n",
              "  }\n",
              "\n",
              "  @keyframes spin {\n",
              "    0% {\n",
              "      border-color: transparent;\n",
              "      border-bottom-color: var(--fill-color);\n",
              "      border-left-color: var(--fill-color);\n",
              "    }\n",
              "    20% {\n",
              "      border-color: transparent;\n",
              "      border-left-color: var(--fill-color);\n",
              "      border-top-color: var(--fill-color);\n",
              "    }\n",
              "    30% {\n",
              "      border-color: transparent;\n",
              "      border-left-color: var(--fill-color);\n",
              "      border-top-color: var(--fill-color);\n",
              "      border-right-color: var(--fill-color);\n",
              "    }\n",
              "    40% {\n",
              "      border-color: transparent;\n",
              "      border-right-color: var(--fill-color);\n",
              "      border-top-color: var(--fill-color);\n",
              "    }\n",
              "    60% {\n",
              "      border-color: transparent;\n",
              "      border-right-color: var(--fill-color);\n",
              "    }\n",
              "    80% {\n",
              "      border-color: transparent;\n",
              "      border-right-color: var(--fill-color);\n",
              "      border-bottom-color: var(--fill-color);\n",
              "    }\n",
              "    90% {\n",
              "      border-color: transparent;\n",
              "      border-bottom-color: var(--fill-color);\n",
              "    }\n",
              "  }\n",
              "</style>\n",
              "\n",
              "  <script>\n",
              "    async function quickchart(key) {\n",
              "      const quickchartButtonEl =\n",
              "        document.querySelector('#' + key + ' button');\n",
              "      quickchartButtonEl.disabled = true;  // To prevent multiple clicks.\n",
              "      quickchartButtonEl.classList.add('colab-df-spinner');\n",
              "      try {\n",
              "        const charts = await google.colab.kernel.invokeFunction(\n",
              "            'suggestCharts', [key], {});\n",
              "      } catch (error) {\n",
              "        console.error('Error during call to suggestCharts:', error);\n",
              "      }\n",
              "      quickchartButtonEl.classList.remove('colab-df-spinner');\n",
              "      quickchartButtonEl.classList.add('colab-df-quickchart-complete');\n",
              "    }\n",
              "    (() => {\n",
              "      let quickchartButtonEl =\n",
              "        document.querySelector('#df-f3e79765-74f5-4ffd-8473-fd3ba4d86ec7 button');\n",
              "      quickchartButtonEl.style.display =\n",
              "        google.colab.kernel.accessAllowed ? 'block' : 'none';\n",
              "    })();\n",
              "  </script>\n",
              "</div>\n",
              "\n",
              "    </div>\n",
              "  </div>\n"
            ],
            "application/vnd.google.colaboratory.intrinsic+json": {
              "type": "dataframe",
              "summary": "{\n  \"name\": \"data\",\n  \"rows\": 4,\n  \"fields\": [\n    {\n      \"column\": \"Geography\",\n      \"properties\": {\n        \"dtype\": \"string\",\n        \"num_unique_values\": 4,\n        \"samples\": [\n          3,\n          \"5014\",\n          \"10000\"\n        ],\n        \"semantic_type\": \"\",\n        \"description\": \"\"\n      }\n    },\n    {\n      \"column\": \"Gender\",\n      \"properties\": {\n        \"dtype\": \"string\",\n        \"num_unique_values\": 4,\n        \"samples\": [\n          2,\n          \"5457\",\n          \"10000\"\n        ],\n        \"semantic_type\": \"\",\n        \"description\": \"\"\n      }\n    }\n  ]\n}"
            }
          },
          "metadata": {},
          "execution_count": 15
        }
      ]
    },
    {
      "cell_type": "markdown",
      "source": [
        "12. Give all uniques values in 'Geography' Column"
      ],
      "metadata": {
        "id": "7WqPniafj5JA"
      }
    },
    {
      "cell_type": "code",
      "source": [
        "data['Geography'].unique()"
      ],
      "metadata": {
        "colab": {
          "base_uri": "https://localhost:8080/"
        },
        "id": "VRw2ZZUHj_7g",
        "outputId": "4aa95975-7495-4124-8b2c-3ea5693e3c5b"
      },
      "execution_count": 16,
      "outputs": [
        {
          "output_type": "execute_result",
          "data": {
            "text/plain": [
              "array(['France', 'Spain', 'Germany'], dtype=object)"
            ]
          },
          "metadata": {},
          "execution_count": 16
        }
      ]
    },
    {
      "cell_type": "markdown",
      "source": [
        "13. Number of clients per geography"
      ],
      "metadata": {
        "id": "Ba5sOonNkSAP"
      }
    },
    {
      "cell_type": "code",
      "source": [
        "data.groupby('Geography').size()"
      ],
      "metadata": {
        "colab": {
          "base_uri": "https://localhost:8080/",
          "height": 209
        },
        "id": "oxqyn9k8kchc",
        "outputId": "8fd88c08-a7c5-4115-c539-670f4496fbba"
      },
      "execution_count": 19,
      "outputs": [
        {
          "output_type": "execute_result",
          "data": {
            "text/plain": [
              "Geography\n",
              "France     5014\n",
              "Germany    2509\n",
              "Spain      2477\n",
              "dtype: int64"
            ],
            "text/html": [
              "<div>\n",
              "<style scoped>\n",
              "    .dataframe tbody tr th:only-of-type {\n",
              "        vertical-align: middle;\n",
              "    }\n",
              "\n",
              "    .dataframe tbody tr th {\n",
              "        vertical-align: top;\n",
              "    }\n",
              "\n",
              "    .dataframe thead th {\n",
              "        text-align: right;\n",
              "    }\n",
              "</style>\n",
              "<table border=\"1\" class=\"dataframe\">\n",
              "  <thead>\n",
              "    <tr style=\"text-align: right;\">\n",
              "      <th></th>\n",
              "      <th>0</th>\n",
              "    </tr>\n",
              "    <tr>\n",
              "      <th>Geography</th>\n",
              "      <th></th>\n",
              "    </tr>\n",
              "  </thead>\n",
              "  <tbody>\n",
              "    <tr>\n",
              "      <th>France</th>\n",
              "      <td>5014</td>\n",
              "    </tr>\n",
              "    <tr>\n",
              "      <th>Germany</th>\n",
              "      <td>2509</td>\n",
              "    </tr>\n",
              "    <tr>\n",
              "      <th>Spain</th>\n",
              "      <td>2477</td>\n",
              "    </tr>\n",
              "  </tbody>\n",
              "</table>\n",
              "</div><br><label><b>dtype:</b> int64</label>"
            ]
          },
          "metadata": {},
          "execution_count": 19
        }
      ]
    },
    {
      "cell_type": "markdown",
      "source": [
        "14.Create a list with variables Balance & Estimated Salary"
      ],
      "metadata": {
        "id": "yuTrufRrlOoa"
      }
    },
    {
      "cell_type": "code",
      "source": [
        "balance_list = data['Balance'].tolist()\n",
        "estimated_salary_list = data['EstimatedSalary'].tolist()"
      ],
      "metadata": {
        "id": "HVsjc01LlX7A"
      },
      "execution_count": 20,
      "outputs": []
    },
    {
      "cell_type": "markdown",
      "source": [
        "15. Display Boxplot variables in mylist"
      ],
      "metadata": {
        "id": "oQhWUwp3la1X"
      }
    },
    {
      "cell_type": "code",
      "source": [
        "my_list = [balance_list, estimated_salary_list]\n",
        "fig, ax = plt.subplots()\n",
        "ax.boxplot(my_list)\n",
        "ax.set_xticklabels(['Balance', 'EstimatedSalary'])\n",
        "plt.show()"
      ],
      "metadata": {
        "colab": {
          "base_uri": "https://localhost:8080/",
          "height": 430
        },
        "id": "8CurdS2NleVz",
        "outputId": "09e270c7-bdb5-420f-c703-17cc6b9492dd"
      },
      "execution_count": 21,
      "outputs": [
        {
          "output_type": "display_data",
          "data": {
            "text/plain": [
              "<Figure size 640x480 with 1 Axes>"
            ],
            "image/png": "iVBORw0KGgoAAAANSUhEUgAAAkIAAAGdCAYAAAD+JxxnAAAAOXRFWHRTb2Z0d2FyZQBNYXRwbG90bGliIHZlcnNpb24zLjcuMSwgaHR0cHM6Ly9tYXRwbG90bGliLm9yZy/bCgiHAAAACXBIWXMAAA9hAAAPYQGoP6dpAAAyLElEQVR4nO3de3gU5d3/8U8SyCaBbDhJlhRCQgkkKAeJECPi4SEPQSOXIG2Bgo0YUCC0YipqFDlYLa0U8VAs9VCwRUV5fsW2qNgYBC4koGxMEQiIlBSrbLAIWQIhCcn9+8Mn87gcEwgGuN+v65rLzMx37vnOyux+mJ0hQcYYIwAAAAsFN3UDAAAATYUgBAAArEUQAgAA1iIIAQAAaxGEAACAtQhCAADAWgQhAABgLYIQAACwVrOmbuBCVltbqy+//FKRkZEKCgpq6nYAAEA9GGN06NAhxcTEKDj49Nd8CEKn8eWXX6pTp05N3QYAADgLn3/+uTp27HjaGoLQaURGRkr65oV0u91N3A0AAKgPv9+vTp06OZ/jp0MQOo26r8PcbjdBCACAi0x9bmvhZmkAAGAtghAAALAWQQgAAFiLIAQAAKxFEAIAANYiCAEAAGsRhAAAgLUIQgAAwFoEIQAAYC2CEAAAsBZBCAAAWKtBQWjOnDnq16+fIiMj1b59ew0bNkw7duwIqLnhhhsUFBQUME2cODGgZs+ePcrIyFBERITat2+vadOm6dixYwE1q1evVt++feVyudS1a1ctXrz4hH4WLFiguLg4hYWFKSUlRR9++GHA+qNHjyo7O1tt27ZVy5YtNWLECJWWljbkkAEAwCWsQb90dc2aNcrOzla/fv107NgxPfTQQxo8eLC2bdumFi1aOHUTJkzQo48+6sxHREQ4P9fU1CgjI0Mej0fr16/X3r179ZOf/ETNmzfXL3/5S0nS7t27lZGRoYkTJ+qVV15Rfn6+xo8frw4dOig9PV2S9PrrrysnJ0cLFy5USkqKnnrqKaWnp2vHjh1q3769JOnee+/VW2+9pWXLlikqKkpTpkzRbbfdpg8++ODsXzFclI4cOaLt27eftqaiokIlJSWKi4tTeHj4GcdMTEwM+LMNALgImXOwb98+I8msWbPGWXb99debe+6555TbvP322yY4ONj4fD5n2e9+9zvjdrtNZWWlMcaY+++/31x++eUB240cOdKkp6c78/379zfZ2dnOfE1NjYmJiTFz5swxxhhz8OBB07x5c7Ns2TKnpri42EgyBQUF9Tq+srIyI8mUlZXVqx4XLq/XayQ16uT1epv6sAAAJ9GQz+8GXRE6XllZmSSpTZs2ActfeeUVLVmyRB6PR0OHDtUjjzzi/M25oKBAPXv2VHR0tFOfnp6uSZMmaevWrbryyitVUFCgtLS0gDHT09M1depUSVJVVZW8Xq9yc3Od9cHBwUpLS1NBQYEkyev1qrq6OmCcxMRExcbGqqCgQFdfffUJx1NZWanKykpn3u/3n83LggtQYmKivF7vaWuKi4s1duxYLVmyRElJSfUaEwBwcTvrIFRbW6upU6dqwIABuuKKK5zlP/7xj9W5c2fFxMRo8+bNeuCBB7Rjxw79+c9/liT5fL6AECTJmff5fKet8fv9qqio0IEDB1RTU3PSmrqvP3w+n0JDQ9WqVasTaur2c7w5c+Zo9uzZDXwlcDGIiIhQ375961WblJRU71oAwMXtrINQdna2tmzZonXr1gUsv+uuu5yfe/bsqQ4dOmjQoEHatWuXvv/97599p9+B3Nxc5eTkOPN+v1+dOnVqwo4AAMD5dFaPz0+ZMkUrVqzQ+++/r44dO562NiUlRZL02WefSZI8Hs8JT27VzXs8ntPWuN1uhYeHq127dgoJCTlpzbfHqKqq0sGDB09ZczyXyyW32x0wAQCAS1eDgpAxRlOmTNHy5cu1atUqxcfHn3GboqIiSVKHDh0kSampqfrkk0+0b98+pyYvL09ut1s9evRwavLz8wPGycvLU2pqqiQpNDRUycnJATW1tbXKz893apKTk9W8efOAmh07dmjPnj1ODQAAsFxD7sKeNGmSiYqKMqtXrzZ79+51piNHjhhjjPnss8/Mo48+ajZt2mR2795t/vKXv5guXbqY6667zhnj2LFj5oorrjCDBw82RUVFZuXKleayyy4zubm5Ts0///lPExERYaZNm2aKi4vNggULTEhIiFm5cqVTs3TpUuNyuczixYvNtm3bzF133WVatWoV8DTaxIkTTWxsrFm1apXZtGmTSU1NNampqfU+Xp4as0vdk2U8DQYAF7eGfH43KAjpFI8RL1q0yBhjzJ49e8x1111n2rRpY1wul+natauZNm3aCY2UlJSYm266yYSHh5t27dqZn//856a6ujqg5v333zd9+vQxoaGhpkuXLs4+vu3ZZ581sbGxJjQ01PTv399s2LAhYH1FRYWZPHmyad26tYmIiDDDhw83e/furffxEoTsQhACgEtDQz6/g4wxpmmuRV34/H6/oqKiVFZWxv1CFigsLFRycrK8Xi9PjQHARawhn9/8rjEAAGAtghAAALAWQQgAAFiLIAQAAKxFEAIAANYiCAEAAGsRhAAAgLUIQgAAwFoEIQAAYC2CEAAAsBZBCAAAWIsgBAAArEUQAgAA1iIIAQAAaxGEAACAtQhCAADAWgQhAABgLYIQAACwFkEIAABYiyAEAACsRRACAADWIggBAABrEYQAAIC1CEIAAMBaBCEAAGAtghAAALAWQQgAAFiLIAQAAKxFEAIAANYiCAEAAGsRhAAAgLUIQgAAwFoEIQAAYC2CEAAAsBZBCAAAWIsgBAAArEUQAgAA1iIIAQAAaxGEAACAtQhCAADAWgQhAABgLYIQAACwFkEIAABYiyAEAACsRRACAADWIggBAABrEYQAAIC1CEIAAMBaBCEAAGAtghAAALAWQQgAAFiLIAQAAKxFEAIAANYiCAEAAGsRhAAAgLUaFITmzJmjfv36KTIyUu3bt9ewYcO0Y8eOgJqjR48qOztbbdu2VcuWLTVixAiVlpYG1OzZs0cZGRmKiIhQ+/btNW3aNB07diygZvXq1erbt69cLpe6du2qxYsXn9DPggULFBcXp7CwMKWkpOjDDz9scC8AAMBeDQpCa9asUXZ2tjZs2KC8vDxVV1dr8ODBOnz4sFNz77336m9/+5uWLVumNWvW6Msvv9Rtt93mrK+pqVFGRoaqqqq0fv16vfzyy1q8eLFmzJjh1OzevVsZGRm68cYbVVRUpKlTp2r8+PF69913nZrXX39dOTk5mjlzpgoLC9W7d2+lp6dr37599e4FAABYzpyDffv2GUlmzZo1xhhjDh48aJo3b26WLVvm1BQXFxtJpqCgwBhjzNtvv22Cg4ONz+dzan73u98Zt9ttKisrjTHG3H///ebyyy8P2NfIkSNNenq6M9+/f3+TnZ3tzNfU1JiYmBgzZ86cevdyJmVlZUaSKSsrq1c9Lm5er9dIMl6vt6lbAQCcg4Z8fp/TPUJlZWWSpDZt2kiSvF6vqqurlZaW5tQkJiYqNjZWBQUFkqSCggL17NlT0dHRTk16err8fr+2bt3q1Hx7jLqaujGqqqrk9XoDaoKDg5WWlubU1KcXAABgt2Znu2Ftba2mTp2qAQMG6IorrpAk+Xw+hYaGqlWrVgG10dHR8vl8Ts23Q1Dd+rp1p6vx+/2qqKjQgQMHVFNTc9Ka7du317uX41VWVqqystKZ9/v9Z3oZAABN7MiRI857/6lUVFSopKREcXFxCg8PP+OYiYmJioiIaKwWcQE76yCUnZ2tLVu2aN26dY3ZT5OaM2eOZs+e3dRtAAAaYPv27UpOTm7UMb1er/r27duoY+LCdFZBaMqUKVqxYoXWrl2rjh07Oss9Ho+qqqp08ODBgCsxpaWl8ng8Ts3xT3fVPcn17Zrjn+4qLS2V2+1WeHi4QkJCFBISctKab49xpl6Ol5ubq5ycHGfe7/erU6dO9XlJAABNJDExUV6v97Q1xcXFGjt2rJYsWaKkpKR6jQk7NCgIGWP005/+VMuXL9fq1asVHx8fsD45OVnNmzdXfn6+RowYIUnasWOH9uzZo9TUVElSamqqHn/8ce3bt0/t27eXJOXl5cntdqtHjx5Ozdtvvx0wdl5enjNGaGiokpOTlZ+fr2HDhkn65qu6/Px8TZkypd69HM/lcsnlcjXkJQEANLGIiIh6X71JSkriSg8CNCgIZWdn69VXX9Vf/vIXRUZGOvfaREVFKTw8XFFRUcrKylJOTo7atGkjt9utn/70p0pNTdXVV18tSRo8eLB69Oih22+/XU888YR8Pp+mT5+u7OxsJ4RMnDhRv/3tb3X//ffrzjvv1KpVq/TGG2/orbfecnrJyclRZmamrrrqKvXv319PPfWUDh8+rHHjxjk9nakXAABguYY8jibppNOiRYucmoqKCjN58mTTunVrExERYYYPH2727t0bME5JSYm56aabTHh4uGnXrp35+c9/bqqrqwNq3n//fdOnTx8TGhpqunTpErCPOs8++6yJjY01oaGhpn///mbDhg0B6+vTy+nw+LxdeHweuHRxftulIZ/fQcYY01Qh7ELn9/sVFRWlsrIyud3upm4H51lhYaGSk5O5SRK4BHF+26Uhn9/8rjEAAGAtghAAALAWQQgAAFiLIAQAAKxFEAIAANYiCAEAAGsRhAAAgLUIQgAAwFoEIQAAYC2CEAAAsBZBCAAAWIsgBAAArEUQAgAA1iIIAQAAaxGEAACAtQhCAADAWgQhAABgLYIQAACwFkEIAABYiyAEAACsRRACAADWIggBAABrEYQAAIC1CEIAAMBaBCEAAGAtghAAALAWQQgAAFiLIAQAAKxFEAIAANYiCAEAAGsRhAAAgLUIQgAAwFoEIQAAYC2CEAAAsBZBCAAAWIsgBAAArEUQAgAA1iIIAQAAaxGEAACAtQhCAADAWgQhAABgLYIQAACwFkEIAABYiyAEAACsRRACAADWIggBAABrEYQAAIC1CEIAAMBaBCEAAGAtghAAALAWQQgAAFiLIAQAAKxFEAIAANYiCAEAAGsRhAAAgLUIQgAAwFoNDkJr167V0KFDFRMTo6CgIL355psB6++44w4FBQUFTEOGDAmo+frrrzVmzBi53W61atVKWVlZKi8vD6jZvHmzBg4cqLCwMHXq1ElPPPHECb0sW7ZMiYmJCgsLU8+ePfX2228HrDfGaMaMGerQoYPCw8OVlpamnTt3NvSQAQDAJarBQejw4cPq3bu3FixYcMqaIUOGaO/evc702muvBawfM2aMtm7dqry8PK1YsUJr167VXXfd5az3+/0aPHiwOnfuLK/Xq7lz52rWrFl6/vnnnZr169dr9OjRysrK0scff6xhw4Zp2LBh2rJli1PzxBNP6JlnntHChQu1ceNGtWjRQunp6Tp69GhDDxsAAFyKzDmQZJYvXx6wLDMz09x6662n3Gbbtm1Gkvnoo4+cZe+8844JCgoyX3zxhTHGmOeee860bt3aVFZWOjUPPPCA6d69uzP/ox/9yGRkZASMnZKSYu6++25jjDG1tbXG4/GYuXPnOusPHjxoXC6Xee211+p1fGVlZUaSKSsrq1c9Lm5er9dIMl6vt6lbAdDIOL/t0pDP7/Nyj9Dq1avVvn17de/eXZMmTdL+/fuddQUFBWrVqpWuuuoqZ1laWpqCg4O1ceNGp+a6665TaGioU5Oenq4dO3bowIEDTk1aWlrAftPT01VQUCBJ2r17t3w+X0BNVFSUUlJSnBoAAGC3Zo094JAhQ3TbbbcpPj5eu3bt0kMPPaSbbrpJBQUFCgkJkc/nU/v27QObaNZMbdq0kc/nkyT5fD7Fx8cH1ERHRzvrWrduLZ/P5yz7ds23x/j2dierOV5lZaUqKyudeb/f39DDBwA0sp07d+rQoUPnNEZxcXHAf89VZGSkEhISGmUsNK1GD0KjRo1yfu7Zs6d69eql73//+1q9erUGDRrU2LtrVHPmzNHs2bObug0AwP/auXOnunXr1mjjjR07ttHG+vTTTwlDl4BGD0LH69Kli9q1a6fPPvtMgwYNksfj0b59+wJqjh07pq+//loej0eS5PF4VFpaGlBTN3+mmm+vr1vWoUOHgJo+ffqctNfc3Fzl5OQ4836/X506dWroIQMAGkndlaAlS5YoKSnprMepqKhQSUmJ4uLiFB4efk49FRcXa+zYsed8lQoXhvMehP79739r//79ThhJTU3VwYMH5fV6lZycLElatWqVamtrlZKS4tQ8/PDDqq6uVvPmzSVJeXl56t69u1q3bu3U5Ofna+rUqc6+8vLylJqaKkmKj4+Xx+NRfn6+E3z8fr82btyoSZMmnbRXl8sll8vV6K8BAODcJCUlqW/fvuc0xoABAxqpG1xKGnyzdHl5uYqKilRUVCTpm5uSi4qKtGfPHpWXl2vatGnasGGDSkpKlJ+fr1tvvVVdu3ZVenq6pG/+MA8ZMkQTJkzQhx9+qA8++EBTpkzRqFGjFBMTI0n68Y9/rNDQUGVlZWnr1q16/fXX9fTTTwdcrbnnnnu0cuVKzZs3T9u3b9esWbO0adMmTZkyRZIUFBSkqVOn6rHHHtNf//pXffLJJ/rJT36imJgYDRs27BxfNgAAcElo6CNp77//vpF0wpSZmWmOHDliBg8ebC677DLTvHlz07lzZzNhwgTj8/kCxti/f78ZPXq0admypXG73WbcuHHm0KFDATX/+Mc/zLXXXmtcLpf53ve+Z371q1+d0Msbb7xhunXrZkJDQ83ll19u3nrrrYD1tbW15pFHHjHR0dHG5XKZQYMGmR07dtT7WHl83i48XgtceC7E8/JC7AmBGvL5HWSMMU0Vwi50fr9fUVFRKisrk9vtbup2cJ4VFhYqOTlZXq/3nC/BA2gcF+J5eSH2hEAN+fzmd40BAABrEYQAAIC1CEIAAMBaBCEAAGAtghAAALAWQQgAAFiLIAQAAKxFEAIAANYiCAEAAGsRhAAAgLUIQgAAwFoEIQAAYC2CEAAAsBZBCAAAWIsgBAAArEUQAgAA1iIIAQAAaxGEAACAtQhCAADAWgQhAABgLYIQAACwFkEIAABYiyAEAACs1aypGwAaw86dO3Xo0KFzGqO4uDjgv+cqMjJSCQkJjTIWAOD8IAjhordz505169at0cYbO3Zso4316aefEoYA4AJGEMJFr+5K0JIlS5SUlHTW41RUVKikpERxcXEKDw8/p56Ki4s1duzYc75KBQA4vwhCuGQkJSWpb9++5zTGgAEDGqkbAMDFgJulAQCAtQhCAADAWgQhAABgLYIQAACwFkEIAABYiyAEAACsRRACAADWIggBAABrEYQAAIC1CEIAAMBaBCEAAGAtghAAALAWQQgAAFiLIAQAAKxFEAIAANYiCAEAAGsRhAAAgLUIQgAAwFoEIQAAYC2CEAAAsBZBCAAAWIsgBAAArEUQAgAA1iIIAQAAaxGEAACAtQhCAADAWgQhAABgLYIQAACwFkEIAABYq8FBaO3atRo6dKhiYmIUFBSkN998M2C9MUYzZsxQhw4dFB4errS0NO3cuTOg5uuvv9aYMWPkdrvVqlUrZWVlqby8PKBm8+bNGjhwoMLCwtSpUyc98cQTJ/SybNkyJSYmKiwsTD179tTbb7/d4F4AAIC9GhyEDh8+rN69e2vBggUnXf/EE0/omWee0cKFC7Vx40a1aNFC6enpOnr0qFMzZswYbd26VXl5eVqxYoXWrl2ru+66y1nv9/s1ePBgde7cWV6vV3PnztWsWbP0/PPPOzXr16/X6NGjlZWVpY8//ljDhg3TsGHDtGXLlgb1AgAALGbOgSSzfPlyZ762ttZ4PB4zd+5cZ9nBgweNy+Uyr732mjHGmG3bthlJ5qOPPnJq3nnnHRMUFGS++OILY4wxzz33nGndurWprKx0ah544AHTvXt3Z/5HP/qRycjICOgnJSXF3H333fXu5UzKysqMJFNWVlavejQNr9drJBmv19vUrTguxJ6Ai9GFeC5diD0hUEM+v5s1ZqjavXu3fD6f0tLSnGVRUVFKSUlRQUGBRo0apYKCArVq1UpXXXWVU5OWlqbg4GBt3LhRw4cPV0FBga677jqFhoY6Nenp6fr1r3+tAwcOqHXr1iooKFBOTk7A/tPT052v6urTCwDgwhZ07Kiu9AQr/OCn0pcXxm2t4Qc/1ZWeYAUd49uFS0GjBiGfzydJio6ODlgeHR3trPP5fGrfvn1gE82aqU2bNgE18fHxJ4xRt65169by+Xxn3M+ZejleZWWlKisrnXm/33+GIwYAnE9h5XtUeHdLae3d0tqm7uYbSZIK726p4vI9kq5p6nZwjho1CF3s5syZo9mzZzd1GwCA/3W0Zaz6/r5cr7zyipISE5u6HUlS8fbtGjNmjF66ObapW0EjaNQg5PF4JEmlpaXq0KGDs7y0tFR9+vRxavbt2xew3bFjx/T1118723s8HpWWlgbU1M2fqebb68/Uy/Fyc3MDvm7z+/3q1KnTmQ8cAHBemGZh+thXq4pW3aSYPk3djiSpwlerj321Ms3CmroVNIJGDULx8fHyeDzKz893wobf79fGjRs1adIkSVJqaqoOHjwor9er5ORkSdKqVatUW1urlJQUp+bhhx9WdXW1mjdvLknKy8tT9+7d1bp1a6cmPz9fU6dOdfafl5en1NTUevdyPJfLJZfL1ZgvCb4D3EMAADhbDQ5C5eXl+uyzz5z53bt3q6ioSG3atFFsbKymTp2qxx57TAkJCYqPj9cjjzyimJgYDRs2TJKUlJSkIUOGaMKECVq4cKGqq6s1ZcoUjRo1SjExMZKkH//4x5o9e7aysrL0wAMPaMuWLXr66ac1f/58Z7/33HOPrr/+es2bN08ZGRlaunSpNm3a5DxiHxQUdMZecGngHgIAwNlqcBDatGmTbrzxRme+7qukzMxMLV68WPfff78OHz6su+66SwcPHtS1116rlStXKizs/y4hvvLKK5oyZYoGDRqk4OBgjRgxQs8884yzPioqSn//+9+VnZ2t5ORktWvXTjNmzAj4t4auueYavfrqq5o+fboeeughJSQk6M0339QVV1zh1NSnF1z8uIcAAHC2gowxpqmbuFD5/X5FRUWprKxMbre7qdvBKRQWFio5OVler1d9+/Zt6nYkXZg9ARejC/FcuhB7QqCGfH5fGDdUAAAANAGCEAAAsBZBCAAAWIsgBAAArEUQAgAA1iIIAQAAaxGEAACAtQhCAADAWgQhAABgLYIQAACwFkEIAABYiyAEAACsRRACAADWIggBAABrEYQAAIC1CEIAAMBaBCEAAGAtghAAALAWQQgAAFiLIAQAAKxFEAIAANYiCAEAAGsRhAAAgLUIQgAAwFoEIQAAYC2CEAAAsBZBCAAAWIsgBAAArEUQAgAA1iIIAQAAaxGEAACAtQhCAADAWgQhAABgLYIQAACwFkEIAABYiyAEAACsRRACAADWIggBAABrEYQAAIC1CEIAAMBaBCEAAGAtghAAALAWQQgAAFiLIAQAAKxFEAIAANYiCAEAAGsRhAAAgLUIQgAAwFoEIQAAYC2CEAAAsBZBCAAAWIsgBAAArEUQAgAA1iIIAQAAaxGEAACAtQhCAADAWo0ehGbNmqWgoKCAKTEx0Vl/9OhRZWdnq23btmrZsqVGjBih0tLSgDH27NmjjIwMRUREqH379po2bZqOHTsWULN69Wr17dtXLpdLXbt21eLFi0/oZcGCBYqLi1NYWJhSUlL04YcfNvbhAgCAi9h5uSJ0+eWXa+/evc60bt06Z929996rv/3tb1q2bJnWrFmjL7/8UrfddpuzvqamRhkZGaqqqtL69ev18ssva/HixZoxY4ZTs3v3bmVkZOjGG29UUVGRpk6dqvHjx+vdd991al5//XXl5ORo5syZKiwsVO/evZWenq59+/adj0MGAAAXoWbnZdBmzeTxeE5YXlZWppdeekmvvvqq/uu//kuStGjRIiUlJWnDhg26+uqr9fe//13btm3Te++9p+joaPXp00e/+MUv9MADD2jWrFkKDQ3VwoULFR8fr3nz5kmSkpKStG7dOs2fP1/p6emSpCeffFITJkzQuHHjJEkLFy7UW2+9pT/84Q968MEHz8dhAwAa2ZEjRyRJhYWF5zRORUWFSkpKFBcXp/Dw8HMaq7i4+Jy2x4XlvAShnTt3KiYmRmFhYUpNTdWcOXMUGxsrr9er6upqpaWlObWJiYmKjY1VQUGBrr76ahUUFKhnz56Kjo52atLT0zVp0iRt3bpVV155pQoKCgLGqKuZOnWqJKmqqkper1e5ubnO+uDgYKWlpamgoOB8HDIA4DzYvn27JGnChAlN3MmJIiMjm7oFNIJGD0IpKSlavHixunfvrr1792r27NkaOHCgtmzZIp/Pp9DQULVq1Spgm+joaPl8PkmSz+cLCEF16+vWna7G7/eroqJCBw4cUE1NzUlr6k6qk6msrFRlZaUz7/f7G3bwAIBGNWzYMEnf/KU5IiLirMcpLi7W2LFjtWTJEiUlJZ1zX5GRkUpISDjncdD0Gj0I3XTTTc7PvXr1UkpKijp37qw33njjnC9Hnm9z5szR7Nmzm7oNAMD/ateuncaPH99o4yUlJalv376NNh4ufuf98flWrVqpW7du+uyzz+TxeFRVVaWDBw8G1JSWljr3FHk8nhOeIqubP1ON2+1WeHi42rVrp5CQkJPWnOzepTq5ubkqKytzps8///ysjhkAAFwcznsQKi8v165du9ShQwclJyerefPmys/Pd9bv2LFDe/bsUWpqqiQpNTVVn3zyScDTXXl5eXK73erRo4dT8+0x6mrqxggNDVVycnJATW1trfLz852ak3G5XHK73QETAAC4dDV6ELrvvvu0Zs0alZSUaP369Ro+fLhCQkI0evRoRUVFKSsrSzk5OXr//ffl9Xo1btw4paam6uqrr5YkDR48WD169NDtt9+uf/zjH3r33Xc1ffp0ZWdny+VySZImTpyof/7zn7r//vu1fft2Pffcc3rjjTd07733On3k5OTohRde0Msvv6zi4mJNmjRJhw8fdp4iAwAAaPR7hP79739r9OjR2r9/vy677DJde+212rBhgy677DJJ0vz58xUcHKwRI0aosrJS6enpeu6555ztQ0JCtGLFCk2aNEmpqalq0aKFMjMz9eijjzo18fHxeuutt3Tvvffq6aefVseOHfXiiy86j85L0siRI/XVV19pxowZ8vl86tOnj1auXHnCDdQAAMBeQcYY09RNXKj8fr+ioqJUVlbG12QXsMLCQiUnJ8vr9V4wN0FeiD0BNuOctEtDPr/5XWMAAMBaBCEAAGAtghAAALAWQQgAAFiLIAQAAKxFEAIAANYiCAEAAGsRhAAAgLUIQgAAwFoEIQAAYC2CEAAAsBZBCAAAWIsgBAAArEUQAgAA1iIIAQAAaxGEAACAtQhCAADAWgQhAABgLYIQAACwFkEIAABYiyAEAACsRRACAADWIggBAABrEYQAAIC1CEIAAMBaBCEAAGAtghAAALAWQQgAAFiLIAQAAKxFEAIAANYiCAEAAGsRhAAAgLUIQgAAwFoEIQAAYC2CEAAAsBZBCAAAWIsgBAAArEUQAgAA1iIIAQAAaxGEAACAtQhCAADAWgQhAABgLYIQAACwFkEIAABYiyAEAACsRRACAADWIggBAABrEYQAAIC1CEIAAMBaBCEAAGAtghAAALAWQQgAAFiLIAQAAKxFEAIAANYiCAEAAGsRhAAAgLWsCEILFixQXFycwsLClJKSog8//LCpWwIAABeASz4Ivf7668rJydHMmTNVWFio3r17Kz09Xfv27Wvq1gAAQBO75IPQk08+qQkTJmjcuHHq0aOHFi5cqIiICP3hD39o6tYAAEATa9bUDZxPVVVV8nq9ys3NdZYFBwcrLS1NBQUFJ9RXVlaqsrLSmff7/d9Jnzg3R44ckSQVFhaesqaiokIlJSWNut+4uDiFh4efdF1xcXGj7gvAqR05ckTbt28/bU3dOVnfczMxMVERERHn3BsufJd0EPrPf/6jmpoaRUdHByyPjo4+6UkzZ84czZ49+7tqD42k7v/lhAkTmriTE0VGRjZ1C8Alb/v27UpOTq5X7dixY+tV5/V61bdv33NpCxeJSzoINVRubq5ycnKceb/fr06dOjVhR6iPYcOGSTr93+C+6ytC0jchKCEhoVH3CeBEiYmJ8nq9p62pew8403n77TFhh0s6CLVr104hISEqLS0NWF5aWiqPx3NCvcvlksvl+q7aQyNp166dxo8ff8a6AQMGfAfdAPiuRURE1OvqDe8BOJlL+mbp0NBQJScnKz8/31lWW1ur/Px8paamNmFnAADgQnBJXxGSpJycHGVmZuqqq65S//799dRTT+nw4cMaN25cU7cGAACa2CUfhEaOHKmvvvpKM2bMkM/nU58+fbRy5coTbqAGAAD2CTLGmKZu4kLl9/sVFRWlsrIyud3upm4HAADUQ0M+vy/pe4QAAABOhyAEAACsRRACAADWIggBAABrEYQAAIC1CEIAAMBaBCEAAGAtghAAALAWQQgAAFjrkv8VG+ei7h/d9vv9TdwJAACor7rP7fr88gyC0GkcOnRIktSpU6cm7gQAADTUoUOHFBUVddoaftfYadTW1urLL79UZGSkgoKCmrodnGd+v1+dOnXS559/zu+WAy4xnN92Mcbo0KFDiomJUXDw6e8C4orQaQQHB6tjx45N3Qa+Y263mzdK4BLF+W2PM10JqsPN0gAAwFoEIQAAYC2CEPC/XC6XZs6cKZfL1dStAGhknN84FW6WBgAA1uKKEAAAsBZBCAAAWIsgBAAArEUQgjVmzZqlPn36NHUbgFUWL16sVq1aNXUbDXI+ei4pKVFQUJCKiooadVycO4IQLgp33HGHgoKCnKlt27YaMmSINm/e3NStAZeU48+1umnIkCFn3DYuLk5PPfVUwLKRI0fq008/PU/d/p/zGbhqamr0q1/9SomJiQoPD1ebNm2UkpKiF1988bzsD98t/mVpXDSGDBmiRYsWSZJ8Pp+mT5+uW265RXv27GnizoBLy7fPtTpn+9h5eHi4wsPDG6OtJjN79mz9/ve/129/+1tdddVV8vv92rRpkw4cOPCd9lFVVaXQ0NDvdJ824IoQLhoul0sej0cej0d9+vTRgw8+qM8//1xfffWVJOmBBx5Qt27dFBERoS5duuiRRx5RdXX1Kcf76KOP9N///d9q166doqKidP3116uwsDCgJigoSC+++KKGDx+uiIgIJSQk6K9//WtAzdatW3XLLbfI7XYrMjJSAwcO1K5du5z1L774opKSkhQWFqbExEQ999xzjfiqAI3v2+da3dS6dWsZYzRr1izFxsbK5XIpJiZGP/vZzyRJN9xwg/71r3/p3nvvda4iSSdeqan7ivoPf/iDYmNj1bJlS02ePFk1NTV64okn5PF41L59ez3++OMBPT355JPq2bOnWrRooU6dOmny5MkqLy+XJK1evVrjxo1TWVmZs+9Zs2ZJkiorK3Xffffpe9/7nlq0aKGUlBStXr06YOzFixcrNjZWERERGj58uPbv3x+w/q9//asmT56sH/7wh4qPj1fv3r2VlZWl++67z6lZuXKlrr32WrVq1Upt27bVLbfcEvA+cLyamhplZWUpPj5e4eHh6t69u55++umAmjvuuEPDhg3T448/rpiYGHXv3l2PPvqorrjiihPG69Onjx555JFT7g+nRhDCRam8vFxLlixR165d1bZtW0lSZGSkFi9erG3btunpp5/WCy+8oPnz559yjEOHDikzM1Pr1q3Thg0blJCQoJtvvlmHDh0KqJs9e7Z+9KMfafPmzbr55ps1ZswYff3115KkL774Qtddd51cLpdWrVolr9erO++8U8eOHZMkvfLKK5oxY4Yef/xxFRcX65e//KUeeeQRvfzyy+fplQHOn//3//6f5s+fr9///vfauXOn3nzzTfXs2VOS9Oc//1kdO3bUo48+qr1792rv3r2nHGfXrl165513tHLlSr322mt66aWXlJGRoX//+99as2aNfv3rX2v69OnauHGjs01wcLCeeeYZbd26VS+//LJWrVql+++/X5J0zTXX6KmnnpLb7Xb2XRdSpkyZooKCAi1dulSbN2/WD3/4Qw0ZMkQ7d+6UJG3cuFFZWVmaMmWKioqKdOONN+qxxx4L6Nfj8WjVqlXOX7pO5vDhw8rJydGmTZuUn5+v4OBgDR8+XLW1tSetr62tVceOHbVs2TJt27ZNM2bM0EMPPaQ33ngjoC4/P187duxQXl6eVqxYoTvvvFPFxcX66KOPnJqPP/5Ymzdv1rhx407ZH07DABeBzMxMExISYlq0aGFatGhhJJkOHToYr9d7ym3mzp1rkpOTnfmZM2ea3r17n7K+pqbGREZGmr/97W/OMklm+vTpznx5ebmRZN555x1jjDG5ubkmPj7eVFVVnXTM73//++bVV18NWPaLX/zCpKamnvZ4gaZy/LlWNz3++ONm3rx5plu3bqf88965c2czf/78gGWLFi0yUVFRzvzMmTNNRESE8fv9zrL09HQTFxdnampqnGXdu3c3c+bMOWWfy5YtM23btj3lfowx5l//+pcJCQkxX3zxRcDyQYMGmdzcXGOMMaNHjzY333xzwPqRI0cGjLV161aTlJRkgoODTc+ePc3dd99t3n777VP2ZowxX331lZFkPvnkE2OMMbt37zaSzMcff3zKbbKzs82IESOc+czMTBMdHW0qKysD6m666SYzadIkZ/6nP/2pueGGG07bD06NK0K4aNx4440qKipSUVGRPvzwQ6Wnp+umm27Sv/71L0nS66+/rgEDBsjj8ahly5aaPn36ae8fKi0t1YQJE5SQkKCoqCi53W6Vl5efsE2vXr2cn1u0aCG32619+/ZJkoqKijRw4EA1b978hPEPHz6sXbt2KSsrSy1btnSmxx577LSXzIGm9u1zrW6aOHGifvjDH6qiokJdunTRhAkTtHz5cufqZ0PExcUpMjLSmY+OjlaPHj0UHBwcsKzuPJOk9957T4MGDdL3vvc9RUZG6vbbb9f+/ft15MiRU+7nk08+UU1Njbp16xZwDq5Zs8Y5B4uLi5WSkhKwXWpqasB8jx49tGXLFm3YsEF33nmn9u3bp6FDh2r8+PFOzc6dOzV69Gh16dJFbrdbcXFxknTa96AFCxYoOTlZl112mVq2bKnnn3/+hPqePXuecF/QhAkT9Nprr+no0aOqqqrSq6++qjvvvPOU+8HpcbM0LhotWrRQ165dnfkXX3xRUVFReuGFF5SRkaExY8Zo9uzZSk9PV1RUlJYuXap58+adcrzMzEzt379fTz/9tDp37iyXy6XU1FRVVVUF1B0fcoKCgpzL3ae7CbTu/oUXXnjhhDfakJCQ+h000ASOP9fqtGnTRjt27NB7772nvLw8TZ48WXPnztWaNWtO+peBUznZOXW686ykpES33HKLJk2apMcff1xt2rTRunXrlJWVpaqqKkVERJx0P+Xl5QoJCZHX6z3hnGvZsmW9+5W++WquX79+6tevn6ZOnaolS5bo9ttv18MPP6z4+HgNHTpUnTt31gsvvKCYmBjV1tbqiiuuOOH9pM7SpUt13333ad68eUpNTVVkZKTmzp0b8HWg9M3/i+MNHTpULpdLy5cvV2hoqKqrq/WDH/ygQceD/0MQwkUrKChIwcHBqqio0Pr169W5c2c9/PDDzvq6K0Wn8sEHH+i5557TzTffLEn6/PPP9Z///KdBPfTq1Usvv/yyqqurT3gjj46OVkxMjP75z39qzJgxDRoXuFCFh4dr6NChGjp0qLKzs5WYmKhPPvlEffv2VWhoqGpqahp9n16vV7W1tZo3b55z1ej4e2lOtu8rr7xSNTU12rdvnwYOHHjSsZOSkk4IHxs2bDhjTz169JD0zZXf/fv3a8eOHXrhhRec/axbt+6023/wwQe65pprNHnyZGdZfa8UN2vWTJmZmVq0aJFCQ0M1atSoi/7JvKZEEMJFo7KyUj6fT5J04MAB/fa3v1V5ebmGDh0qv9+vPXv2aOnSperXr5/eeustLV++/LTjJSQk6E9/+pPzOOy0adMa/GYyZcoUPfvssxo1apRyc3MVFRWlDRs2qH///urevbtmz56tn/3sZ4qKitKQIUNUWVnpPHabk5Nz1q8FcD59+1yr06xZM61YsUI1NTVKSUlRRESElixZovDwcHXu3FnSN195rV27VqNGjZLL5VK7du0apZ+uXbuqurpazz77rIYOHaoPPvhACxcuDKiJi4tTeXm58vPz1bt3b0VERKhbt24aM2aMfvKTn2jevHm68sor9dVXXyk/P1+9evVSRkaGfvazn2nAgAH6zW9+o1tvvVXvvvuuVq5cGTD2D37wAw0YMEDXXHONPB6Pdu/erdzcXHXr1k2JiYkKDg5W27Zt9fzzz6tDhw7as2ePHnzwwdMeU0JCgv74xz/q3XffVXx8vP70pz/po48+Unx8fL1ek/HjxyspKUnSN6EK56Cpb1IC6iMzM9NIcqbIyEjTr18/8z//8z9OzbRp00zbtm1Ny5YtzciRI838+fNPuEnz2zdLFxYWmquuusqEhYWZhIQEs2zZshNu9pRkli9fHtBLVFSUWbRokTP/j3/8wwwePNhERESYyMhIM3DgQLNr1y5n/SuvvGL69OljQkNDTevWrc11111n/vznPzfWSwM0quPPtbqpe/fuZvny5SYlJcW43W7TokULc/XVV5v33nvP2bagoMD06tXLuFwuU/fxcrKbpY9/aCEzM9PceuutAcuuv/56c8899zjzTz75pOnQoYMJDw836enp5o9//KORZA4cOODUTJw40bRt29ZIMjNnzjTGGFNVVWVmzJhh4uLiTPPmzU2HDh3M8OHDzebNm53tXnrpJdOxY0cTHh5uhg4dan7zm98E9Pz888+bG2+80Vx22WUmNDTUxMbGmjvuuMOUlJQ4NXl5eSYpKcm4XC7Tq1cvs3r16oD3j+Nvlj569Ki54447TFRUlGnVqpWZNGmSefDBBwNem5O9Lt82cOBAc/nll59yPeonyBhjmiKAAQCAs2OMUUJCgiZPnszV5XPEV2MAAFxEvvrqKy1dulQ+n49/O6gREIQAALiItG/fXu3atdPzzz+v1q1bN3U7Fz2CEAAAFxHuaGlc/IOKAADAWgQhAABgLYIQAACwFkEIAABYiyAEAACsRRACAADWIggBAABrEYQAAIC1CEIAAMBa/x9rlwBsbhrfMQAAAABJRU5ErkJggg==\n"
          },
          "metadata": {}
        }
      ]
    },
    {
      "cell_type": "markdown",
      "source": [
        "16. Display Boxplot for Credit Scores"
      ],
      "metadata": {
        "id": "P5pcXyzploAo"
      }
    },
    {
      "cell_type": "code",
      "source": [
        "sns.boxplot(x=data['CreditScore'])\n",
        "plt.show()"
      ],
      "metadata": {
        "colab": {
          "base_uri": "https://localhost:8080/",
          "height": 505
        },
        "id": "bi4sTYFjltv8",
        "outputId": "5b3238a2-e08a-4896-8ee2-df9cadea033a"
      },
      "execution_count": 22,
      "outputs": [
        {
          "output_type": "stream",
          "name": "stderr",
          "text": [
            "/usr/local/lib/python3.10/dist-packages/seaborn/categorical.py:640: FutureWarning: SeriesGroupBy.grouper is deprecated and will be removed in a future version of pandas.\n",
            "  positions = grouped.grouper.result_index.to_numpy(dtype=float)\n"
          ]
        },
        {
          "output_type": "display_data",
          "data": {
            "text/plain": [
              "<Figure size 640x480 with 1 Axes>"
            ],
            "image/png": "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\n"
          },
          "metadata": {}
        }
      ]
    },
    {
      "cell_type": "markdown",
      "source": [
        "17. How many Outlier values in CreditScore ?"
      ],
      "metadata": {
        "id": "ul-lKCVMlzGS"
      }
    },
    {
      "cell_type": "code",
      "source": [
        "Q1 = data['CreditScore'].quantile(0.25)\n",
        "Q3 = data['CreditScore'].quantile(0.75)\n",
        "IQR = Q3 - Q1\n",
        "lower_bound = Q1 - 1.5 * IQR\n",
        "upper_bound = Q3 + 1.5 * IQR\n",
        "outliers = data[(data['CreditScore'] < lower_bound) | (data['CreditScore'] > upper_bound)]\n",
        "num_outliers = len(outliers)\n",
        "##Calcul des quartiles et de l'IQR : Nous calculons d'abord le premier quartile (Q1), le troisième quartile (Q3) et l'écart interquartile (IQR) pour la colonne « CreditScore ».\n",
        "#Définition des limites : Nous définissons les limites inférieure et supérieure pour identifier les valeurs aberrantes à l'aide de la formule standard : limite inférieure = Q1 - 1,5 * IQR et limite supérieure = Q3 + 1,5 * IQR.\n",
        "#Identification des valeurs aberrantes : Nous filtrons le DataFrame pour sélectionner les lignes où la valeur « CreditScore » se situe en dehors des limites inférieure et supérieure calculées.\n",
        "#Calcul du nombre de valeurs aberrantes : Nous utilisons len() pour obtenir le nombre de lignes dans le DataFrame filtré, ce qui représente le nombre de valeurs aberrantes.\n",
        "print(\"Nombre de points aberrants :\", num_outliers)"
      ],
      "metadata": {
        "colab": {
          "base_uri": "https://localhost:8080/"
        },
        "id": "n_N2dXelmE7e",
        "outputId": "612a0dc5-28a5-42b3-8e6f-b3144b300993"
      },
      "execution_count": 23,
      "outputs": [
        {
          "output_type": "stream",
          "name": "stdout",
          "text": [
            "Nombre de points aberrants : 15\n"
          ]
        }
      ]
    },
    {
      "cell_type": "markdown",
      "source": [
        "18. Number of clients who's credit score card is less than lower bound of those who exited"
      ],
      "metadata": {
        "id": "olmHN6ocmRvh"
      }
    },
    {
      "cell_type": "code",
      "source": [
        "Q1 = data['CreditScore'].quantile(0.25)\n",
        "Q3 = data['CreditScore'].quantile(0.75)\n",
        "IQR = Q3 - Q1\n",
        "lower_bound = Q1 - 1.5 * IQR\n",
        "\n",
        "# Filtrer les clients avec un CreditScore inférieur ou égal à la borne inférieure et qui ont abandonné\n",
        "filtered_customers = data[(data['CreditScore'] <= lower_bound) & (data['Exited'] == 1)]\n",
        "\n",
        "# Calculer le taux\n",
        "churn_rate_lower_bound = len(filtered_customers) / len(data[(data['CreditScore'] <= lower_bound)]) * 100\n",
        "\n",
        "print(f\"Le taux de clients ayant un CreditScore inférieur ou égal à la borne inférieure et qui ont abandonné est de : {churn_rate_lower_bound:.2f}%\")"
      ],
      "metadata": {
        "colab": {
          "base_uri": "https://localhost:8080/"
        },
        "id": "1d_JqgesmZoy",
        "outputId": "6d30fc66-a207-4a1e-8201-16a6517acd1f"
      },
      "execution_count": 24,
      "outputs": [
        {
          "output_type": "stream",
          "name": "stdout",
          "text": [
            "Le taux de clients ayant un CreditScore inférieur ou égal à la borne inférieure et qui ont abandonné est de : 100.00%\n"
          ]
        }
      ]
    },
    {
      "cell_type": "markdown",
      "source": [
        "19. Calculate churn for Exiting Clients aged between 45 and 55"
      ],
      "metadata": {
        "id": "lfhLNDMKmjkt"
      }
    },
    {
      "cell_type": "code",
      "source": [
        "# Filtrer les clients âgés entre 45 et 55 ans\n",
        "age_filtered_data = data[(data['Age'] >= 45) & (data['Age'] <= 55)]\n",
        "\n",
        "# Calculer le taux de churn pour ce groupe d'âge\n",
        "churn_rate_age_group = age_filtered_data['Exited'].mean() * 100\n",
        "\n",
        "print(f\"Le taux de churn pour les clients âgés entre 45 et 55 ans est de : {churn_rate_age_group:.2f}%\")"
      ],
      "metadata": {
        "colab": {
          "base_uri": "https://localhost:8080/"
        },
        "id": "pVCmZs_vmra_",
        "outputId": "0b8d596e-7484-4ca9-d013-661276cc4071"
      },
      "execution_count": 25,
      "outputs": [
        {
          "output_type": "stream",
          "name": "stdout",
          "text": [
            "Le taux de churn pour les clients âgés entre 45 et 55 ans est de : 48.70%\n"
          ]
        }
      ]
    },
    {
      "cell_type": "markdown",
      "source": [
        "20. Divide data into descriptors and target"
      ],
      "metadata": {
        "id": "NkVn6MImloKi"
      }
    },
    {
      "cell_type": "code",
      "source": [
        "X = data.drop('Exited', axis=1)  # Données explicatives (descripteurs)\n",
        "y = data['Exited']  # Données cibles"
      ],
      "metadata": {
        "id": "N-5ugITkm4yp"
      },
      "execution_count": 33,
      "outputs": []
    },
    {
      "cell_type": "markdown",
      "source": [
        "21. Convert Data Frames X and Y into ndarray"
      ],
      "metadata": {
        "id": "1MnwsQUkm6SZ"
      }
    },
    {
      "cell_type": "code",
      "source": [
        "X = X.to_numpy()\n",
        "y = y.to_numpy()"
      ],
      "metadata": {
        "id": "27zFXCpLnMTW"
      },
      "execution_count": 34,
      "outputs": []
    },
    {
      "cell_type": "markdown",
      "source": [
        "22. Convert Categoric values into numeric"
      ],
      "metadata": {
        "id": "8ljIhwwunSLt"
      }
    },
    {
      "cell_type": "code",
      "source": [
        "from sklearn.preprocessing import OneHotEncoder\n",
        "from sklearn.compose import ColumnTransformer\n",
        "\n",
        "# Sélectionner les colonnes catégorielles (en utilisant les index ou les noms de colonnes du DataFrame original)\n",
        "categorical_features = ['Geography', 'Gender']\n",
        "\n",
        "# Créer un ColumnTransformer\n",
        "preprocessor = ColumnTransformer(\n",
        "    transformers=[\n",
        "        ('onehot', OneHotEncoder(sparse_output=False, handle_unknown='ignore'), categorical_features),\n",
        "    ],\n",
        "    remainder='passthrough'\n",
        ")\n",
        "\n",
        "# Appliquer la transformation à X (DataFrame original)\n",
        "X = preprocessor.fit_transform(data.drop('Exited', axis=1)) # Appliquer sur le DataFrame original\n",
        "\n"
      ],
      "metadata": {
        "id": "CqKAtBY2naCS"
      },
      "execution_count": 35,
      "outputs": []
    },
    {
      "cell_type": "markdown",
      "source": [
        "23. Divide data into 80% Training and 20% Testing"
      ],
      "metadata": {
        "id": "5PaaTncDn0ld"
      }
    },
    {
      "cell_type": "code",
      "source": [
        "from sklearn.model_selection import train_test_split\n",
        "\n",
        "X_train, X_test, y_train, y_test = train_test_split(X, y, test_size=0.2, random_state=42)"
      ],
      "metadata": {
        "id": "KaMkHuUxn5kL"
      },
      "execution_count": 36,
      "outputs": []
    },
    {
      "cell_type": "markdown",
      "source": [
        "24. Compare Churn to training and test Data"
      ],
      "metadata": {
        "id": "shg3h0GDnUgR"
      }
    },
    {
      "cell_type": "code",
      "source": [
        "# Calculer le taux de churn pour l'ensemble d'apprentissage\n",
        "churn_rate_train = y_train.mean() * 100\n",
        "\n",
        "# Calculer le taux de churn pour l'ensemble de test\n",
        "churn_rate_test = y_test.mean() * 100\n",
        "\n",
        "print(f\"Taux de churn (apprentissage) : {churn_rate_train:.2f}%\")\n",
        "print(f\"Taux de churn (test) : {churn_rate_test:.2f}%\")"
      ],
      "metadata": {
        "colab": {
          "base_uri": "https://localhost:8080/"
        },
        "id": "_0v7lkafoA-g",
        "outputId": "e55e7b42-78f7-489a-ea38-a78ad640db9b"
      },
      "execution_count": 37,
      "outputs": [
        {
          "output_type": "stream",
          "name": "stdout",
          "text": [
            "Taux de churn (apprentissage) : 20.55%\n",
            "Taux de churn (test) : 19.65%\n"
          ]
        }
      ]
    },
    {
      "cell_type": "markdown",
      "source": [
        "Idéalement, les taux de churn pour les ensembles d'apprentissage et de test devraient être proches. Cela indique que la division des données a été effectuée correctement et que l'ensemble de test est représentatif de l'ensemble d'apprentissage.\n",
        "\n",
        "\n"
      ],
      "metadata": {
        "id": "osfpOXK_oGcc"
      }
    },
    {
      "cell_type": "markdown",
      "source": [
        "25. Normalise data\n",
        "\n"
      ],
      "metadata": {
        "id": "WgFAWllzoScH"
      }
    },
    {
      "cell_type": "code",
      "source": [
        "from sklearn.preprocessing import StandardScaler\n",
        "\n",
        "# Créer un objet StandardScaler\n",
        "scaler = StandardScaler()\n",
        "\n",
        "# Ajuster le scaler aux données d'apprentissage et les transformer\n",
        "X_train = scaler.fit_transform(X_train)\n",
        "\n",
        "# Transformer les données de test en utilisant le scaler ajusté\n",
        "X_test = scaler.transform(X_test)"
      ],
      "metadata": {
        "id": "myHcjOmLoX9T"
      },
      "execution_count": 38,
      "outputs": []
    },
    {
      "cell_type": "markdown",
      "source": [
        "# Modeling"
      ],
      "metadata": {
        "id": "PcT-TxCNobdM"
      }
    },
    {
      "cell_type": "markdown",
      "source": [
        "Using KNN : K-Nearest Neighbours"
      ],
      "metadata": {
        "id": "VNqolS3roirV"
      }
    },
    {
      "cell_type": "code",
      "source": [
        "from sklearn.neighbors import KNeighborsClassifier\n",
        "from sklearn.metrics import accuracy_score, precision_score, recall_score, f1_score, confusion_matrix\n",
        "\n",
        "# Créer un classificateur KNN avec k=5 (nombre de voisins)\n",
        "knn = KNeighborsClassifier(n_neighbors=5)\n",
        "\n",
        "# Entraîner le modèle sur les données d'apprentissage\n",
        "knn.fit(X_train, y_train)\n",
        "\n",
        "# Faire des prédictions sur les données de test\n",
        "y_pred = knn.predict(X_test)\n",
        "\n",
        "# Précision\n",
        "precision = precision_score(y_test, y_pred)\n",
        "print(f\"Précision : {precision:.2f}\")\n",
        "\n",
        "# Rappel\n",
        "recall = recall_score(y_test, y_pred)\n",
        "print(f\"Rappel : {recall:.2f}\")\n",
        "\n",
        "# Score F1\n",
        "f1 = f1_score(y_test, y_pred)\n",
        "print(f\"Score F1 : {f1:.2f}\")\n",
        "\n",
        "# Matrice de confusion\n",
        "conf_matrix = confusion_matrix(y_test, y_pred)\n",
        "print(\"Matrice de confusion :\")\n",
        "print(conf_matrix)"
      ],
      "metadata": {
        "colab": {
          "base_uri": "https://localhost:8080/"
        },
        "id": "i8zrdXkFotp0",
        "outputId": "0e107c61-46d2-4d7b-c60e-4b3439afad6a"
      },
      "execution_count": 41,
      "outputs": [
        {
          "output_type": "stream",
          "name": "stdout",
          "text": [
            "Précision : 0.61\n",
            "Rappel : 0.37\n",
            "Score F1 : 0.46\n",
            "Matrice de confusion :\n",
            "[[1514   93]\n",
            " [ 249  144]]\n"
          ]
        }
      ]
    },
    {
      "cell_type": "markdown",
      "source": [
        "##Creating Confusion Matrix"
      ],
      "metadata": {
        "id": "ji0MXpiso08z"
      }
    },
    {
      "cell_type": "code",
      "source": [
        " #Create the confusion matrix\n",
        "cm = confusion_matrix(y_test, y_pred)\n",
        "\n",
        "class_names = ['Not Churned', 'Churned']  # Replace with your actual class names\n",
        "\n",
        "# Plot the confusion matrix as a heatmap\n",
        "plt.figure(figsize=(8, 6))\n",
        "sns.heatmap(cm, annot=True, fmt=\"d\", cmap=\"Blues\",\n",
        "            xticklabels=class_names,  # Use significant names for x-axis\n",
        "            yticklabels=class_names)  # Use significant names for y-axis\n",
        "plt.title(\"Confusion Matrix\")\n",
        "plt.xlabel(\"Predicted Label\")\n",
        "plt.ylabel(\"True Label\")\n",
        "plt.show()"
      ],
      "metadata": {
        "colab": {
          "base_uri": "https://localhost:8080/",
          "height": 564
        },
        "id": "1S7vjvFhpUEX",
        "outputId": "ac27da08-2fa8-46d8-bb0d-fbeca10690e8"
      },
      "execution_count": 44,
      "outputs": [
        {
          "output_type": "display_data",
          "data": {
            "text/plain": [
              "<Figure size 800x600 with 2 Axes>"
            ],
            "image/png": "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\n"
          },
          "metadata": {}
        }
      ]
    },
    {
      "cell_type": "markdown",
      "source": [
        "Applying Cross Validation and determining the best Hyperparameter for the KNN Model"
      ],
      "metadata": {
        "id": "k7u898_0p_9Z"
      }
    },
    {
      "cell_type": "code",
      "source": [
        "from sklearn.model_selection import cross_val_score\n",
        "from sklearn.neighbors import KNeighborsClassifier\n",
        "\n",
        "# Range of k values to test\n",
        "k_values = range(1, 31)  # Test k values from 1 to 30\n",
        "\n",
        "# List to store cross-validation scores\n",
        "cv_scores = []\n",
        "\n",
        "# Perform cross-validation for each k value\n",
        "for k in k_values:\n",
        "    knn = KNeighborsClassifier(n_neighbors=k)\n",
        "    scores = cross_val_score(knn, X_train, y_train, cv=5, scoring='accuracy')  # 5-fold cross-validation\n",
        "    cv_scores.append(scores.mean())\n",
        "\n",
        "# Find the best k value\n",
        "best_k = k_values[cv_scores.index(max(cv_scores))]\n",
        "print(f\"Best k value: {best_k}\")\n",
        "\n",
        "# Train the final model with the best k\n",
        "final_knn = KNeighborsClassifier(n_neighbors=best_k)\n",
        "final_knn.fit(X_train, y_train)\n",
        "\n",
        "# Evaluate the final model on the test set\n",
        "y_pred_final = final_knn.predict(X_test)\n",
        "accuracy_final = accuracy_score(y_test, y_pred_final)\n",
        "print(f\"Accuracy of final model: {accuracy_final:.2f}\")"
      ],
      "metadata": {
        "colab": {
          "base_uri": "https://localhost:8080/"
        },
        "id": "ILu_fIuoqLTt",
        "outputId": "b6ca7ef0-3427-48f7-a9d2-afe00fd84f6a"
      },
      "execution_count": 45,
      "outputs": [
        {
          "output_type": "stream",
          "name": "stdout",
          "text": [
            "Best k value: 15\n",
            "Accuracy of final model: 0.84\n"
          ]
        }
      ]
    },
    {
      "cell_type": "markdown",
      "source": [
        "Apply Random Forest Classication and calculating evaluation metrics"
      ],
      "metadata": {
        "id": "XMUQsutUqRAM"
      }
    },
    {
      "cell_type": "code",
      "source": [
        "from sklearn.ensemble import RandomForestClassifier\n",
        "from sklearn.metrics import accuracy_score, precision_score, recall_score, f1_score, confusion_matrix\n",
        "\n",
        "# Create a Random Forest classifier\n",
        "rf_classifier = RandomForestClassifier(n_estimators=100, random_state=42)  # You can adjust hyperparameters\n",
        "\n",
        "# Train the model on the training data\n",
        "rf_classifier.fit(X_train, y_train)\n",
        "\n",
        "# Make predictions on the test data\n",
        "y_pred_rf = rf_classifier.predict(X_test)\n",
        "\n",
        "# Calculate evaluation metrics\n",
        "accuracy_rf = accuracy_score(y_test, y_pred_rf)\n",
        "precision_rf = precision_score(y_test, y_pred_rf)\n",
        "recall_rf = recall_score(y_test, y_pred_rf)\n",
        "f1_rf = f1_score(y_test, y_pred_rf)\n",
        "conf_matrix_rf = confusion_matrix(y_test, y_pred_rf)\n",
        "\n",
        "# Print the metrics\n",
        "print(f\"Accuracy: {accuracy_rf:.2f}\")\n",
        "print(f\"Precision: {precision_rf:.2f}\")\n",
        "print(f\"Recall: {recall_rf:.2f}\")\n",
        "print(f\"F1 Score: {f1_rf:.2f}\")\n",
        "print(\"Confusion Matrix:\")\n",
        "print(conf_matrix_rf)"
      ],
      "metadata": {
        "colab": {
          "base_uri": "https://localhost:8080/"
        },
        "id": "E2Uqy5O0qZft",
        "outputId": "de47a82d-0b70-47dd-d54f-8db78c23510a"
      },
      "execution_count": 46,
      "outputs": [
        {
          "output_type": "stream",
          "name": "stdout",
          "text": [
            "Accuracy: 0.87\n",
            "Precision: 0.75\n",
            "Recall: 0.48\n",
            "F1 Score: 0.58\n",
            "Confusion Matrix:\n",
            "[[1545   62]\n",
            " [ 205  188]]\n"
          ]
        }
      ]
    },
    {
      "cell_type": "markdown",
      "source": [
        "Extract the best features that best detect churn"
      ],
      "metadata": {
        "id": "lmXQ5runqadg"
      }
    },
    {
      "cell_type": "code",
      "source": [
        "# Assuming 'preprocessor' is your ColumnTransformer object\n",
        "\n",
        "# Get feature names from ColumnTransformer\n",
        "feature_names = preprocessor.get_feature_names_out()\n",
        "\n",
        "# Create DataFrame with feature names and importances\n",
        "feature_importances = pd.DataFrame({'feature': feature_names,\n",
        "                                   'importance': importances})\n",
        "\n",
        "\n",
        "# Sort the DataFrame by importance in descending order\n",
        "feature_importances = feature_importances.sort_values('importance', ascending=False)\n",
        "\n",
        "# Print or display the top features\n",
        "print(feature_importances.head(10))  # Print top 10 features\n",
        "# or\n",
        "# display(feature_importances)  # Display the entire DataFrame"
      ],
      "metadata": {
        "colab": {
          "base_uri": "https://localhost:8080/"
        },
        "id": "mdE1-0sEqlVN",
        "outputId": "777e0564-997d-478f-8145-bd816191a150"
      },
      "execution_count": 48,
      "outputs": [
        {
          "output_type": "stream",
          "name": "stdout",
          "text": [
            "                       feature  importance\n",
            "6               remainder__Age    0.237412\n",
            "12  remainder__EstimatedSalary    0.146132\n",
            "5       remainder__CreditScore    0.141139\n",
            "8           remainder__Balance    0.140581\n",
            "9     remainder__NumOfProducts    0.130055\n",
            "7            remainder__Tenure    0.084628\n",
            "11   remainder__IsActiveMember    0.041774\n",
            "1    onehot__Geography_Germany    0.020040\n",
            "10        remainder__HasCrCard    0.018880\n",
            "0     onehot__Geography_France    0.010989\n"
          ]
        }
      ]
    },
    {
      "cell_type": "markdown",
      "source": [
        "Based on this feature importance analysis, you can conclude that the following features are the most important for predicting customer churn:\n",
        "\n",
        "Age/\n",
        "Estimated Salary\n",
        "/Credit Score\n",
        "/Account Balance\n",
        "/Number of Products"
      ],
      "metadata": {
        "id": "LyIcqlAIrCq4"
      }
    },
    {
      "cell_type": "markdown",
      "source": [
        "# Applying SVM :\n",
        "Support Vector Machines classification and calculating evalution Metrics"
      ],
      "metadata": {
        "id": "wyTYdtszrSDV"
      }
    },
    {
      "cell_type": "code",
      "source": [
        "from sklearn.svm import SVC\n",
        "from sklearn.metrics import accuracy_score, precision_score, recall_score, f1_score, confusion_matrix\n",
        "\n",
        "# Create an SVM classifier\n",
        "svm_classifier = SVC(kernel='linear', random_state=42)  # You can try different kernels\n",
        "\n",
        "# Train the model on the training data\n",
        "svm_classifier.fit(X_train, y_train)\n",
        "\n",
        "# Make predictions on the test data\n",
        "y_pred_svm = svm_classifier.predict(X_test)\n",
        "\n",
        "# Calculate evaluation metrics\n",
        "accuracy_svm = accuracy_score(y_test, y_pred_svm)\n",
        "precision_svm = precision_score(y_test, y_pred_svm)\n",
        "recall_svm = recall_score(y_test, y_pred_svm)\n",
        "f1_svm = f1_score(y_test, y_pred_svm)\n",
        "conf_matrix_svm = confusion_matrix(y_test, y_pred_svm)\n",
        "\n",
        "# Print the metrics\n",
        "print(f\"Accuracy: {accuracy_svm:.2f}\")\n",
        "print(f\"Precision: {precision_svm:.2f}\")\n",
        "print(f\"Recall: {recall_svm:.2f}\")\n",
        "print(f\"F1 Score: {f1_svm:.2f}\")\n",
        "print(\"Confusion Matrix:\")\n",
        "print(conf_matrix_svm)"
      ],
      "metadata": {
        "colab": {
          "base_uri": "https://localhost:8080/"
        },
        "id": "MqidKMc8rYH6",
        "outputId": "7f9b0498-df14-4498-deb4-18f6312c73ba"
      },
      "execution_count": 49,
      "outputs": [
        {
          "output_type": "stream",
          "name": "stdout",
          "text": [
            "Accuracy: 0.80\n",
            "Precision: 0.00\n",
            "Recall: 0.00\n",
            "F1 Score: 0.00\n",
            "Confusion Matrix:\n",
            "[[1607    0]\n",
            " [ 393    0]]\n"
          ]
        },
        {
          "output_type": "stream",
          "name": "stderr",
          "text": [
            "/usr/local/lib/python3.10/dist-packages/sklearn/metrics/_classification.py:1531: UndefinedMetricWarning: Precision is ill-defined and being set to 0.0 due to no predicted samples. Use `zero_division` parameter to control this behavior.\n",
            "  _warn_prf(average, modifier, f\"{metric.capitalize()} is\", len(result))\n"
          ]
        }
      ]
    },
    {
      "cell_type": "markdown",
      "source": [
        "#Logistic Regression"
      ],
      "metadata": {
        "id": "YPztL5GKrzfw"
      }
    },
    {
      "cell_type": "code",
      "source": [
        "from sklearn.linear_model import LogisticRegression\n",
        "from sklearn.metrics import accuracy_score, precision_score, recall_score, f1_score, confusion_matrix\n",
        "\n",
        "# Create a Logistic Regression classifier\n",
        "logreg_classifier = LogisticRegression(random_state=42)  # You can adjust hyperparameters\n",
        "\n",
        "# Train the model on the training data\n",
        "logreg_classifier.fit(X_train, y_train)\n",
        "\n",
        "# Make predictions on the test data\n",
        "y_pred_logreg = logreg_classifier.predict(X_test)\n",
        "\n",
        "# Calculate evaluation metrics\n",
        "accuracy_logreg = accuracy_score(y_test, y_pred_logreg)\n",
        "precision_logreg = precision_score(y_test, y_pred_logreg)\n",
        "recall_logreg = recall_score(y_test, y_pred_logreg)\n",
        "f1_logreg = f1_score(y_test, y_pred_logreg)\n",
        "conf_matrix_logreg = confusion_matrix(y_test, y_pred_logreg)\n",
        "\n",
        "# Print the metrics\n",
        "print(f\"Accuracy: {accuracy_logreg:.2f}\")\n",
        "print(f\"Precision: {precision_logreg:.2f}\")\n",
        "print(f\"Recall: {recall_logreg:.2f}\")\n",
        "print(f\"F1 Score: {f1_logreg:.2f}\")\n",
        "print(\"Confusion Matrix:\")\n",
        "print(conf_matrix_logreg)"
      ],
      "metadata": {
        "colab": {
          "base_uri": "https://localhost:8080/"
        },
        "id": "sUFi8nZDrNyA",
        "outputId": "df308788-d6b6-4106-bbec-4739a97ff975"
      },
      "execution_count": 50,
      "outputs": [
        {
          "output_type": "stream",
          "name": "stdout",
          "text": [
            "Accuracy: 0.81\n",
            "Precision: 0.55\n",
            "Recall: 0.20\n",
            "F1 Score: 0.29\n",
            "Confusion Matrix:\n",
            "[[1543   64]\n",
            " [ 314   79]]\n"
          ]
        }
      ]
    },
    {
      "cell_type": "markdown",
      "source": [],
      "metadata": {
        "id": "18nc3arItUfi"
      }
    },
    {
      "cell_type": "markdown",
      "source": [
        "Plotting and comparing all models"
      ],
      "metadata": {
        "id": "tllkItcGsvcD"
      }
    },
    {
      "cell_type": "code",
      "source": [
        "import matplotlib.pyplot as plt\n",
        "import numpy as np\n",
        "\n",
        "# Model names and metrics\n",
        "model_names = ['KNN', 'Random Forest', 'SVM', 'Logistic Regression']\n",
        "accuracy_scores = [accuracy, accuracy_rf, accuracy_svm, accuracy_logreg]\n",
        "precision_scores = [precision, precision_rf, precision_svm, precision_logreg]\n",
        "recall_scores = [recall, recall_rf, recall_svm, recall_logreg]\n",
        "f1_scores = [f1, f1_rf, f1_svm, f1_logreg]\n",
        "\n",
        "# Set up the bar positions\n",
        "x = np.arange(len(model_names))\n",
        "width = 0.2  # Width of the bars\n",
        "\n",
        "# Create the bar plot\n",
        "fig, ax = plt.subplots(figsize=(12, 6))\n",
        "rects1 = ax.bar(x - width*1.5, accuracy_scores, width, label='Accuracy')\n",
        "rects2 = ax.bar(x - width/2, precision_scores, width, label='Precision')\n",
        "rects3 = ax.bar(x + width/2, recall_scores, width, label='Recall')\n",
        "rects4 = ax.bar(x + width*1.5, f1_scores, width, label='F1 Score')\n",
        "\n",
        "# Add labels, title, and legend\n",
        "ax.set_ylabel('Scores')\n",
        "ax.set_title('Model Performance Comparison')\n",
        "ax.set_xticks(x)\n",
        "ax.set_xticklabels(model_names)\n",
        "ax.legend()\n",
        "\n",
        "# Display the plot\n",
        "plt.show()"
      ],
      "metadata": {
        "colab": {
          "base_uri": "https://localhost:8080/",
          "height": 565
        },
        "id": "terAz5G2sxCL",
        "outputId": "2c3cea47-4f97-421f-d271-336c078fdb88"
      },
      "execution_count": 51,
      "outputs": [
        {
          "output_type": "display_data",
          "data": {
            "text/plain": [
              "<Figure size 1200x600 with 1 Axes>"
            ],
            "image/png": "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\n"
          },
          "metadata": {}
        }
      ]
    }
  ]
}
